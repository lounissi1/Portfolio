{
  "nbformat": 4,
  "nbformat_minor": 0,
  "metadata": {
    "kernelspec": {
      "display_name": "Python 3",
      "language": "python",
      "name": "python3"
    },
    "language_info": {
      "codemirror_mode": {
        "name": "ipython",
        "version": 3
      },
      "file_extension": ".py",
      "mimetype": "text/x-python",
      "name": "python",
      "nbconvert_exporter": "python",
      "pygments_lexer": "ipython3",
      "version": "3.7.7"
    },
    "toc": {
      "base_numbering": 1,
      "nav_menu": {},
      "number_sections": false,
      "sideBar": true,
      "skip_h1_title": false,
      "title_cell": "Table of Contents",
      "title_sidebar": "Contents",
      "toc_cell": false,
      "toc_position": {},
      "toc_section_display": true,
      "toc_window_display": false
    },
    "colab": {
      "name": "assignment3.ipynb",
      "provenance": [],
      "collapsed_sections": []
    }
  },
  "cells": [
    {
      "cell_type": "markdown",
      "metadata": {
        "id": "NYARLO0luNwh"
      },
      "source": [
        "# Time Series Analysis\n"
      ]
    },
    {
      "cell_type": "markdown",
      "metadata": {
        "id": "p1LMWzGTuNwh"
      },
      "source": [
        "## Assignment tasks:"
      ]
    },
    {
      "cell_type": "markdown",
      "metadata": {
        "id": "9PKCud0muNwi"
      },
      "source": [
        "In this assignment you will conduct time series analysis of the financial data. \n",
        "\n",
        "1. Setup your environment to access and download latest stock data. Please see instructions below for different tools you can use to get the data. You can use any of the options provided, either Quandl or Yahoo Finance. If you know of any other service to download the data, please use that service, provide an explanation in the comments.\n",
        "\n",
        "2. *(2 points)* Download the **adjusted** close prices for FB, MMM, IBM and AMZN for the last 60 months. If you run into any issues downloading the data from online sources, you can use `.csv` files provided. This will not affect your grade for the assignment.\n",
        "\n",
        "3. *(3 points)* Resample the data to get prices for the end of the **business** month. Select the **Adjusted Close** for each stock.\n",
        "\n",
        "4. *(3 points)* Use the pandas `autocorrelation_plot()` function to plot the autocorrelation of the adjusted month-end close prices for each of the stocks.\n",
        "    - Are they autocorrelated?\n",
        "    - Provide short explanation.\n",
        "\n",
        "5. *(4 points)* \n",
        "    - Calculate the monthly returns for each stock using the \"shift trick\" explained in the lecture, using `shift()` function. \n",
        "    - Use pandas `autotocorrelation_plot()` to plot the autocorrelation of the monthly returns.\n",
        "    - Are the returns autocorrelated? Provide short explanation.\n",
        "\n",
        "6. *(3 points)*\n",
        "    - Combine all 4 time series (returns) into a single DataFrame,\n",
        "    - Visualize the correlation between the returns of all pairs of stocks using a scatter plot matrix (use `scatter_matrix()` function from `pandas.plotting`).\n",
        "    - Explain the results. Is there any correlation?\n",
        "\n",
        "**NOTES:** \n",
        "1. In this assignment, please make sure the DataFrame(s) do not contain any NAs before you plot autocorrelations or scatter matrix.\n",
        "2. Both options explained below use `pandas-datareader` package for remote data access. To install it, type the following in a command window: `conda install pandas-datareader`. You will also need to install one or more of the following packages `fix_yahoo_finance`, `quandl`. See below.\n",
        "\n",
        "---------"
      ]
    },
    {
      "cell_type": "markdown",
      "metadata": {
        "id": "yTkMu9kuuNwj"
      },
      "source": [
        "## Downloading Stock Prices"
      ]
    },
    {
      "cell_type": "markdown",
      "metadata": {
        "id": "dANG_tc0uNwj"
      },
      "source": [
        "### Option 1 - Using QUANDL"
      ]
    },
    {
      "cell_type": "markdown",
      "metadata": {
        "id": "20MO5_TBuNwl"
      },
      "source": [
        "To use QUANDL service, you need to create an account and get an API Key. Here is the short description of steps:\n",
        "\n",
        "- Go to https://www.quandl.com/\n",
        "- Click either `sign up` at the top right corner of the home page, or scroll all the way down and click `Create Free Account` button at the bottom of the page.\n",
        "- Create an account. \n",
        "- You will receive an email to the email address you have used during the registration. Confirm your email.\n",
        "\n",
        "You are all set.\n",
        "\n",
        "Now, as you login into your account, click the avatar icon at the top right corner of the page, select `\"Account Settings.\"`\n",
        "On the next page, you will see `Your API Key` field with a long string of numbers and characters underneath. You need this API key for your call to Quandl from the notebook. In the code below, replace `YOUR_API_KEY` with the actual API key from your account. \n",
        "\n",
        "**NOTE**: You can remove this key before submitting the assignment."
      ]
    },
    {
      "cell_type": "code",
      "metadata": {
        "id": "JNW1g0zLuNwl",
        "colab": {
          "base_uri": "https://localhost:8080/"
        },
        "outputId": "26ab9fd6-9747-4288-de00-7d77628d5d7d"
      },
      "source": [
        "# all imports and env variables\n",
        "import pandas as pd\n",
        "pd.core.common.is_list_like = pd.api.types.is_list_like\n",
        "import datetime\n",
        "import pandas_datareader.data as web\n",
        "\n",
        "import matplotlib.pyplot as plt\n",
        "import matplotlib.dates as mdates\n",
        "%matplotlib inline\n",
        "from pandas.plotting import autocorrelation_plot\n",
        "from matplotlib.pylab import rcParams\n",
        "rcParams['figure.figsize']=15,6\n",
        "\n",
        "#from influxdb import InfluxDBClient\n",
        "from statsmodels.graphics.tsaplots import plot_pacf\n",
        "from statsmodels.graphics.tsaplots import plot_acf\n",
        "from scipy.stats import linregress\n",
        "\n",
        "# This line of code should work on Windows and Mac\n",
        "#%env QUANDL_API_KEY = \"YOUR_API_KEY\"\n",
        "\n",
        "# If the above line of code does not work on your system,\n",
        "# You can use this way of setting Quandl env variable\n",
        "##import quandl\n",
        "##quandl.ApiConfig.api_key = \"YOUR_API_KEY\""
      ],
      "execution_count": null,
      "outputs": [
        {
          "output_type": "stream",
          "name": "stderr",
          "text": [
            "/usr/local/lib/python3.7/dist-packages/statsmodels/tools/_testing.py:19: FutureWarning: pandas.util.testing is deprecated. Use the functions in the public API at pandas.testing instead.\n",
            "  import pandas.util.testing as tm\n"
          ]
        }
      ]
    },
    {
      "cell_type": "markdown",
      "metadata": {
        "id": "xiLd5yHfuNwn"
      },
      "source": [
        "### Option 2 - Using Yahoo Finance `yfinance` library"
      ]
    },
    {
      "cell_type": "code",
      "metadata": {
        "colab": {
          "base_uri": "https://localhost:8080/"
        },
        "id": "acvhKzhMqrmK",
        "outputId": "eff756d6-9d95-4f48-ade9-31faf4c42b6c"
      },
      "source": [
        "!pip3 install yfinance"
      ],
      "execution_count": null,
      "outputs": [
        {
          "output_type": "stream",
          "name": "stdout",
          "text": [
            "Collecting yfinance\n",
            "  Downloading yfinance-0.1.67-py2.py3-none-any.whl (25 kB)\n",
            "Requirement already satisfied: multitasking>=0.0.7 in /usr/local/lib/python3.7/dist-packages (from yfinance) (0.0.10)\n",
            "Requirement already satisfied: pandas>=0.24 in /usr/local/lib/python3.7/dist-packages (from yfinance) (1.1.5)\n",
            "Requirement already satisfied: requests>=2.20 in /usr/local/lib/python3.7/dist-packages (from yfinance) (2.23.0)\n",
            "Requirement already satisfied: numpy>=1.15 in /usr/local/lib/python3.7/dist-packages (from yfinance) (1.19.5)\n",
            "Collecting lxml>=4.5.1\n",
            "  Downloading lxml-4.6.4-cp37-cp37m-manylinux_2_17_x86_64.manylinux2014_x86_64.manylinux_2_24_x86_64.whl (6.3 MB)\n",
            "\u001b[K     |████████████████████████████████| 6.3 MB 6.4 MB/s \n",
            "\u001b[?25hRequirement already satisfied: python-dateutil>=2.7.3 in /usr/local/lib/python3.7/dist-packages (from pandas>=0.24->yfinance) (2.8.2)\n",
            "Requirement already satisfied: pytz>=2017.2 in /usr/local/lib/python3.7/dist-packages (from pandas>=0.24->yfinance) (2018.9)\n",
            "Requirement already satisfied: six>=1.5 in /usr/local/lib/python3.7/dist-packages (from python-dateutil>=2.7.3->pandas>=0.24->yfinance) (1.15.0)\n",
            "Requirement already satisfied: certifi>=2017.4.17 in /usr/local/lib/python3.7/dist-packages (from requests>=2.20->yfinance) (2021.10.8)\n",
            "Requirement already satisfied: urllib3!=1.25.0,!=1.25.1,<1.26,>=1.21.1 in /usr/local/lib/python3.7/dist-packages (from requests>=2.20->yfinance) (1.24.3)\n",
            "Requirement already satisfied: chardet<4,>=3.0.2 in /usr/local/lib/python3.7/dist-packages (from requests>=2.20->yfinance) (3.0.4)\n",
            "Requirement already satisfied: idna<3,>=2.5 in /usr/local/lib/python3.7/dist-packages (from requests>=2.20->yfinance) (2.10)\n",
            "Installing collected packages: lxml, yfinance\n",
            "  Attempting uninstall: lxml\n",
            "    Found existing installation: lxml 4.2.6\n",
            "    Uninstalling lxml-4.2.6:\n",
            "      Successfully uninstalled lxml-4.2.6\n",
            "Successfully installed lxml-4.6.4 yfinance-0.1.67\n"
          ]
        }
      ]
    },
    {
      "cell_type": "code",
      "metadata": {
        "id": "zswf-IJfuNwm"
      },
      "source": [
        "# Make sure you adjust the start and end date accordingly\n",
        "# so that the start date = today date\n",
        "\n",
        "start = datetime.datetime(2016, 11, 20)\n",
        "end = datetime.datetime(2021, 11, 20)\n",
        "\n",
        "##amzn = web.DataReader('WIKI/AMZN', 'quandl', start, end)"
      ],
      "execution_count": null,
      "outputs": []
    },
    {
      "cell_type": "code",
      "metadata": {
        "id": "5qZVWW4KuNwn",
        "colab": {
          "base_uri": "https://localhost:8080/"
        },
        "outputId": "9292e864-61c5-409b-884e-e42efa2733de"
      },
      "source": [
        "import yfinance as yf\n",
        "from pandas_datareader import data as pdr\n",
        "\n",
        "# 1) Using pandas datareader and Yahoo Finance\n",
        "yf.pdr_override()\n",
        "\n",
        "amzn = pdr.get_data_yahoo('AMZN', start = start)\n"
      ],
      "execution_count": null,
      "outputs": [
        {
          "output_type": "stream",
          "name": "stdout",
          "text": [
            "\r[*********************100%***********************]  1 of 1 completed\n"
          ]
        }
      ]
    },
    {
      "cell_type": "code",
      "metadata": {
        "id": "0oP1hSmbuNwo",
        "colab": {
          "base_uri": "https://localhost:8080/"
        },
        "outputId": "df5f6e99-18e2-4978-ccaa-8684d76b1d69"
      },
      "source": [
        "# 2) Using fix_yahoo_finance library only to download AMZN data\n",
        "\n",
        "amzn = yf.download('AMZN', start=start)"
      ],
      "execution_count": null,
      "outputs": [
        {
          "output_type": "stream",
          "name": "stdout",
          "text": [
            "\r[*********************100%***********************]  1 of 1 completed\n"
          ]
        }
      ]
    },
    {
      "cell_type": "code",
      "metadata": {
        "colab": {
          "base_uri": "https://localhost:8080/",
          "height": 442
        },
        "id": "pRvebjvl7jL7",
        "outputId": "a43fde88-4d61-439c-8d0f-d6d9217fba52"
      },
      "source": [
        "amzn"
      ],
      "execution_count": null,
      "outputs": [
        {
          "output_type": "execute_result",
          "data": {
            "text/html": [
              "<div>\n",
              "<style scoped>\n",
              "    .dataframe tbody tr th:only-of-type {\n",
              "        vertical-align: middle;\n",
              "    }\n",
              "\n",
              "    .dataframe tbody tr th {\n",
              "        vertical-align: top;\n",
              "    }\n",
              "\n",
              "    .dataframe thead th {\n",
              "        text-align: right;\n",
              "    }\n",
              "</style>\n",
              "<table border=\"1\" class=\"dataframe\">\n",
              "  <thead>\n",
              "    <tr style=\"text-align: right;\">\n",
              "      <th></th>\n",
              "      <th>Open</th>\n",
              "      <th>High</th>\n",
              "      <th>Low</th>\n",
              "      <th>Close</th>\n",
              "      <th>Adj Close</th>\n",
              "      <th>Volume</th>\n",
              "    </tr>\n",
              "    <tr>\n",
              "      <th>Date</th>\n",
              "      <th></th>\n",
              "      <th></th>\n",
              "      <th></th>\n",
              "      <th></th>\n",
              "      <th></th>\n",
              "      <th></th>\n",
              "    </tr>\n",
              "  </thead>\n",
              "  <tbody>\n",
              "    <tr>\n",
              "      <th>2016-11-21</th>\n",
              "      <td>766.000000</td>\n",
              "      <td>780.349976</td>\n",
              "      <td>765.109985</td>\n",
              "      <td>780.000000</td>\n",
              "      <td>780.000000</td>\n",
              "      <td>4614600</td>\n",
              "    </tr>\n",
              "    <tr>\n",
              "      <th>2016-11-22</th>\n",
              "      <td>788.169983</td>\n",
              "      <td>792.400024</td>\n",
              "      <td>781.000000</td>\n",
              "      <td>785.330017</td>\n",
              "      <td>785.330017</td>\n",
              "      <td>5311300</td>\n",
              "    </tr>\n",
              "    <tr>\n",
              "      <th>2016-11-23</th>\n",
              "      <td>781.729980</td>\n",
              "      <td>781.750000</td>\n",
              "      <td>773.119995</td>\n",
              "      <td>780.119995</td>\n",
              "      <td>780.119995</td>\n",
              "      <td>3540300</td>\n",
              "    </tr>\n",
              "    <tr>\n",
              "      <th>2016-11-25</th>\n",
              "      <td>786.500000</td>\n",
              "      <td>786.750000</td>\n",
              "      <td>777.900024</td>\n",
              "      <td>780.369995</td>\n",
              "      <td>780.369995</td>\n",
              "      <td>1837100</td>\n",
              "    </tr>\n",
              "    <tr>\n",
              "      <th>2016-11-28</th>\n",
              "      <td>776.989990</td>\n",
              "      <td>777.000000</td>\n",
              "      <td>764.239990</td>\n",
              "      <td>766.770020</td>\n",
              "      <td>766.770020</td>\n",
              "      <td>4438800</td>\n",
              "    </tr>\n",
              "    <tr>\n",
              "      <th>...</th>\n",
              "      <td>...</td>\n",
              "      <td>...</td>\n",
              "      <td>...</td>\n",
              "      <td>...</td>\n",
              "      <td>...</td>\n",
              "      <td>...</td>\n",
              "    </tr>\n",
              "    <tr>\n",
              "      <th>2021-11-22</th>\n",
              "      <td>3676.379883</td>\n",
              "      <td>3713.459961</td>\n",
              "      <td>3567.500000</td>\n",
              "      <td>3572.570068</td>\n",
              "      <td>3572.570068</td>\n",
              "      <td>4842200</td>\n",
              "    </tr>\n",
              "    <tr>\n",
              "      <th>2021-11-23</th>\n",
              "      <td>3585.040039</td>\n",
              "      <td>3621.050049</td>\n",
              "      <td>3527.709961</td>\n",
              "      <td>3580.040039</td>\n",
              "      <td>3580.040039</td>\n",
              "      <td>3690200</td>\n",
              "    </tr>\n",
              "    <tr>\n",
              "      <th>2021-11-24</th>\n",
              "      <td>3562.669922</td>\n",
              "      <td>3613.639893</td>\n",
              "      <td>3536.850098</td>\n",
              "      <td>3580.409912</td>\n",
              "      <td>3580.409912</td>\n",
              "      <td>2328000</td>\n",
              "    </tr>\n",
              "    <tr>\n",
              "      <th>2021-11-26</th>\n",
              "      <td>3602.100098</td>\n",
              "      <td>3633.500000</td>\n",
              "      <td>3504.149902</td>\n",
              "      <td>3504.560059</td>\n",
              "      <td>3504.560059</td>\n",
              "      <td>2991300</td>\n",
              "    </tr>\n",
              "    <tr>\n",
              "      <th>2021-11-29</th>\n",
              "      <td>3547.644287</td>\n",
              "      <td>3592.449951</td>\n",
              "      <td>3531.500000</td>\n",
              "      <td>3585.320068</td>\n",
              "      <td>3585.320068</td>\n",
              "      <td>1811831</td>\n",
              "    </tr>\n",
              "  </tbody>\n",
              "</table>\n",
              "<p>1264 rows × 6 columns</p>\n",
              "</div>"
            ],
            "text/plain": [
              "                   Open         High  ...    Adj Close   Volume\n",
              "Date                                  ...                      \n",
              "2016-11-21   766.000000   780.349976  ...   780.000000  4614600\n",
              "2016-11-22   788.169983   792.400024  ...   785.330017  5311300\n",
              "2016-11-23   781.729980   781.750000  ...   780.119995  3540300\n",
              "2016-11-25   786.500000   786.750000  ...   780.369995  1837100\n",
              "2016-11-28   776.989990   777.000000  ...   766.770020  4438800\n",
              "...                 ...          ...  ...          ...      ...\n",
              "2021-11-22  3676.379883  3713.459961  ...  3572.570068  4842200\n",
              "2021-11-23  3585.040039  3621.050049  ...  3580.040039  3690200\n",
              "2021-11-24  3562.669922  3613.639893  ...  3580.409912  2328000\n",
              "2021-11-26  3602.100098  3633.500000  ...  3504.560059  2991300\n",
              "2021-11-29  3547.644287  3592.449951  ...  3585.320068  1811831\n",
              "\n",
              "[1264 rows x 6 columns]"
            ]
          },
          "metadata": {},
          "execution_count": 7
        }
      ]
    },
    {
      "cell_type": "code",
      "metadata": {
        "id": "m7qUdxLquNwo",
        "colab": {
          "base_uri": "https://localhost:8080/"
        },
        "outputId": "52b98c85-7950-4307-8d68-6fc5a3c11ee0"
      },
      "source": [
        "# If we want to download multipe stocks into a single dataframe:\n",
        "\n",
        "all_stocks_list = ['AMZN', 'FB','MMM', 'IBM']\n",
        "all_stocks = yf.download(all_stocks_list, start = start)"
      ],
      "execution_count": null,
      "outputs": [
        {
          "output_type": "stream",
          "name": "stdout",
          "text": [
            "[*********************100%***********************]  4 of 4 completed\n"
          ]
        }
      ]
    },
    {
      "cell_type": "code",
      "metadata": {
        "id": "0UuGZLE9uNwo"
      },
      "source": [
        "#all_stocks"
      ],
      "execution_count": null,
      "outputs": []
    },
    {
      "cell_type": "code",
      "metadata": {
        "colab": {
          "base_uri": "https://localhost:8080/"
        },
        "id": "jZMoNaVDtXQd",
        "outputId": "68c4c5f3-bf19-4285-9b5f-81c2bc03819e"
      },
      "source": [
        "FB = yf.download('FB', start=start)\n",
        "MMM = yf.download('MMM', start=start)\n",
        "IBM = yf.download('IBM', start=start)"
      ],
      "execution_count": null,
      "outputs": [
        {
          "output_type": "stream",
          "name": "stdout",
          "text": [
            "[*********************100%***********************]  1 of 1 completed\n",
            "[*********************100%***********************]  1 of 1 completed\n",
            "[*********************100%***********************]  1 of 1 completed\n"
          ]
        }
      ]
    },
    {
      "cell_type": "code",
      "metadata": {
        "id": "HZ9TNWCMuNwp",
        "colab": {
          "base_uri": "https://localhost:8080/",
          "height": 442
        },
        "outputId": "851555be-8348-4b83-a293-85c87b92b2e4"
      },
      "source": [
        "FB"
      ],
      "execution_count": null,
      "outputs": [
        {
          "output_type": "execute_result",
          "data": {
            "text/html": [
              "<div>\n",
              "<style scoped>\n",
              "    .dataframe tbody tr th:only-of-type {\n",
              "        vertical-align: middle;\n",
              "    }\n",
              "\n",
              "    .dataframe tbody tr th {\n",
              "        vertical-align: top;\n",
              "    }\n",
              "\n",
              "    .dataframe thead th {\n",
              "        text-align: right;\n",
              "    }\n",
              "</style>\n",
              "<table border=\"1\" class=\"dataframe\">\n",
              "  <thead>\n",
              "    <tr style=\"text-align: right;\">\n",
              "      <th></th>\n",
              "      <th>Open</th>\n",
              "      <th>High</th>\n",
              "      <th>Low</th>\n",
              "      <th>Close</th>\n",
              "      <th>Adj Close</th>\n",
              "      <th>Volume</th>\n",
              "    </tr>\n",
              "    <tr>\n",
              "      <th>Date</th>\n",
              "      <th></th>\n",
              "      <th></th>\n",
              "      <th></th>\n",
              "      <th></th>\n",
              "      <th></th>\n",
              "      <th></th>\n",
              "    </tr>\n",
              "  </thead>\n",
              "  <tbody>\n",
              "    <tr>\n",
              "      <th>2016-11-21</th>\n",
              "      <td>118.199997</td>\n",
              "      <td>121.949997</td>\n",
              "      <td>117.800003</td>\n",
              "      <td>121.769997</td>\n",
              "      <td>121.769997</td>\n",
              "      <td>35415400</td>\n",
              "    </tr>\n",
              "    <tr>\n",
              "      <th>2016-11-22</th>\n",
              "      <td>122.400002</td>\n",
              "      <td>122.980003</td>\n",
              "      <td>120.900002</td>\n",
              "      <td>121.470001</td>\n",
              "      <td>121.470001</td>\n",
              "      <td>26089200</td>\n",
              "    </tr>\n",
              "    <tr>\n",
              "      <th>2016-11-23</th>\n",
              "      <td>121.230003</td>\n",
              "      <td>121.309998</td>\n",
              "      <td>119.940002</td>\n",
              "      <td>120.839996</td>\n",
              "      <td>120.839996</td>\n",
              "      <td>15672100</td>\n",
              "    </tr>\n",
              "    <tr>\n",
              "      <th>2016-11-25</th>\n",
              "      <td>121.010002</td>\n",
              "      <td>121.139999</td>\n",
              "      <td>120.070000</td>\n",
              "      <td>120.379997</td>\n",
              "      <td>120.379997</td>\n",
              "      <td>8658600</td>\n",
              "    </tr>\n",
              "    <tr>\n",
              "      <th>2016-11-28</th>\n",
              "      <td>120.120003</td>\n",
              "      <td>121.690002</td>\n",
              "      <td>119.820000</td>\n",
              "      <td>120.410004</td>\n",
              "      <td>120.410004</td>\n",
              "      <td>18101300</td>\n",
              "    </tr>\n",
              "    <tr>\n",
              "      <th>...</th>\n",
              "      <td>...</td>\n",
              "      <td>...</td>\n",
              "      <td>...</td>\n",
              "      <td>...</td>\n",
              "      <td>...</td>\n",
              "      <td>...</td>\n",
              "    </tr>\n",
              "    <tr>\n",
              "      <th>2021-11-22</th>\n",
              "      <td>349.049988</td>\n",
              "      <td>353.829987</td>\n",
              "      <td>340.510010</td>\n",
              "      <td>341.010010</td>\n",
              "      <td>341.010010</td>\n",
              "      <td>27116800</td>\n",
              "    </tr>\n",
              "    <tr>\n",
              "      <th>2021-11-23</th>\n",
              "      <td>338.929993</td>\n",
              "      <td>341.399994</td>\n",
              "      <td>333.500000</td>\n",
              "      <td>337.250000</td>\n",
              "      <td>337.250000</td>\n",
              "      <td>17225000</td>\n",
              "    </tr>\n",
              "    <tr>\n",
              "      <th>2021-11-24</th>\n",
              "      <td>336.000000</td>\n",
              "      <td>341.779999</td>\n",
              "      <td>332.809998</td>\n",
              "      <td>341.059998</td>\n",
              "      <td>341.059998</td>\n",
              "      <td>13566200</td>\n",
              "    </tr>\n",
              "    <tr>\n",
              "      <th>2021-11-26</th>\n",
              "      <td>335.799988</td>\n",
              "      <td>337.750000</td>\n",
              "      <td>331.899994</td>\n",
              "      <td>333.119995</td>\n",
              "      <td>333.119995</td>\n",
              "      <td>14750700</td>\n",
              "    </tr>\n",
              "    <tr>\n",
              "      <th>2021-11-29</th>\n",
              "      <td>336.890015</td>\n",
              "      <td>339.299896</td>\n",
              "      <td>335.304993</td>\n",
              "      <td>337.899994</td>\n",
              "      <td>337.899994</td>\n",
              "      <td>8051018</td>\n",
              "    </tr>\n",
              "  </tbody>\n",
              "</table>\n",
              "<p>1264 rows × 6 columns</p>\n",
              "</div>"
            ],
            "text/plain": [
              "                  Open        High  ...   Adj Close    Volume\n",
              "Date                                ...                      \n",
              "2016-11-21  118.199997  121.949997  ...  121.769997  35415400\n",
              "2016-11-22  122.400002  122.980003  ...  121.470001  26089200\n",
              "2016-11-23  121.230003  121.309998  ...  120.839996  15672100\n",
              "2016-11-25  121.010002  121.139999  ...  120.379997   8658600\n",
              "2016-11-28  120.120003  121.690002  ...  120.410004  18101300\n",
              "...                ...         ...  ...         ...       ...\n",
              "2021-11-22  349.049988  353.829987  ...  341.010010  27116800\n",
              "2021-11-23  338.929993  341.399994  ...  337.250000  17225000\n",
              "2021-11-24  336.000000  341.779999  ...  341.059998  13566200\n",
              "2021-11-26  335.799988  337.750000  ...  333.119995  14750700\n",
              "2021-11-29  336.890015  339.299896  ...  337.899994   8051018\n",
              "\n",
              "[1264 rows x 6 columns]"
            ]
          },
          "metadata": {},
          "execution_count": 11
        }
      ]
    },
    {
      "cell_type": "code",
      "metadata": {
        "id": "4pQi2S_duNwp",
        "colab": {
          "base_uri": "https://localhost:8080/",
          "height": 442
        },
        "outputId": "5b3bc668-d2cc-41fa-b0b3-fedf793ba428"
      },
      "source": [
        "MMM"
      ],
      "execution_count": null,
      "outputs": [
        {
          "output_type": "execute_result",
          "data": {
            "text/html": [
              "<div>\n",
              "<style scoped>\n",
              "    .dataframe tbody tr th:only-of-type {\n",
              "        vertical-align: middle;\n",
              "    }\n",
              "\n",
              "    .dataframe tbody tr th {\n",
              "        vertical-align: top;\n",
              "    }\n",
              "\n",
              "    .dataframe thead th {\n",
              "        text-align: right;\n",
              "    }\n",
              "</style>\n",
              "<table border=\"1\" class=\"dataframe\">\n",
              "  <thead>\n",
              "    <tr style=\"text-align: right;\">\n",
              "      <th></th>\n",
              "      <th>Open</th>\n",
              "      <th>High</th>\n",
              "      <th>Low</th>\n",
              "      <th>Close</th>\n",
              "      <th>Adj Close</th>\n",
              "      <th>Volume</th>\n",
              "    </tr>\n",
              "    <tr>\n",
              "      <th>Date</th>\n",
              "      <th></th>\n",
              "      <th></th>\n",
              "      <th></th>\n",
              "      <th></th>\n",
              "      <th></th>\n",
              "      <th></th>\n",
              "    </tr>\n",
              "  </thead>\n",
              "  <tbody>\n",
              "    <tr>\n",
              "      <th>2016-11-21</th>\n",
              "      <td>171.419998</td>\n",
              "      <td>171.979996</td>\n",
              "      <td>170.720001</td>\n",
              "      <td>171.520004</td>\n",
              "      <td>147.578323</td>\n",
              "      <td>1993900</td>\n",
              "    </tr>\n",
              "    <tr>\n",
              "      <th>2016-11-22</th>\n",
              "      <td>171.669998</td>\n",
              "      <td>172.080002</td>\n",
              "      <td>171.279999</td>\n",
              "      <td>171.910004</td>\n",
              "      <td>147.913879</td>\n",
              "      <td>1553300</td>\n",
              "    </tr>\n",
              "    <tr>\n",
              "      <th>2016-11-23</th>\n",
              "      <td>172.080002</td>\n",
              "      <td>172.750000</td>\n",
              "      <td>171.759995</td>\n",
              "      <td>172.250000</td>\n",
              "      <td>148.206390</td>\n",
              "      <td>1477900</td>\n",
              "    </tr>\n",
              "    <tr>\n",
              "      <th>2016-11-25</th>\n",
              "      <td>172.210007</td>\n",
              "      <td>173.990005</td>\n",
              "      <td>172.210007</td>\n",
              "      <td>173.490005</td>\n",
              "      <td>149.273331</td>\n",
              "      <td>945800</td>\n",
              "    </tr>\n",
              "    <tr>\n",
              "      <th>2016-11-28</th>\n",
              "      <td>173.559998</td>\n",
              "      <td>173.770004</td>\n",
              "      <td>172.279999</td>\n",
              "      <td>172.500000</td>\n",
              "      <td>148.421524</td>\n",
              "      <td>1677700</td>\n",
              "    </tr>\n",
              "    <tr>\n",
              "      <th>...</th>\n",
              "      <td>...</td>\n",
              "      <td>...</td>\n",
              "      <td>...</td>\n",
              "      <td>...</td>\n",
              "      <td>...</td>\n",
              "      <td>...</td>\n",
              "    </tr>\n",
              "    <tr>\n",
              "      <th>2021-11-22</th>\n",
              "      <td>179.250000</td>\n",
              "      <td>182.279999</td>\n",
              "      <td>178.779999</td>\n",
              "      <td>179.660004</td>\n",
              "      <td>179.660004</td>\n",
              "      <td>2371900</td>\n",
              "    </tr>\n",
              "    <tr>\n",
              "      <th>2021-11-23</th>\n",
              "      <td>180.610001</td>\n",
              "      <td>181.320007</td>\n",
              "      <td>178.649994</td>\n",
              "      <td>179.460007</td>\n",
              "      <td>179.460007</td>\n",
              "      <td>1944200</td>\n",
              "    </tr>\n",
              "    <tr>\n",
              "      <th>2021-11-24</th>\n",
              "      <td>178.970001</td>\n",
              "      <td>179.500000</td>\n",
              "      <td>177.539993</td>\n",
              "      <td>177.630005</td>\n",
              "      <td>177.630005</td>\n",
              "      <td>1488500</td>\n",
              "    </tr>\n",
              "    <tr>\n",
              "      <th>2021-11-26</th>\n",
              "      <td>174.520004</td>\n",
              "      <td>176.830002</td>\n",
              "      <td>173.399994</td>\n",
              "      <td>175.520004</td>\n",
              "      <td>175.520004</td>\n",
              "      <td>1912300</td>\n",
              "    </tr>\n",
              "    <tr>\n",
              "      <th>2021-11-29</th>\n",
              "      <td>176.470001</td>\n",
              "      <td>176.829895</td>\n",
              "      <td>174.979996</td>\n",
              "      <td>176.649994</td>\n",
              "      <td>176.649994</td>\n",
              "      <td>953063</td>\n",
              "    </tr>\n",
              "  </tbody>\n",
              "</table>\n",
              "<p>1264 rows × 6 columns</p>\n",
              "</div>"
            ],
            "text/plain": [
              "                  Open        High         Low       Close   Adj Close   Volume\n",
              "Date                                                                           \n",
              "2016-11-21  171.419998  171.979996  170.720001  171.520004  147.578323  1993900\n",
              "2016-11-22  171.669998  172.080002  171.279999  171.910004  147.913879  1553300\n",
              "2016-11-23  172.080002  172.750000  171.759995  172.250000  148.206390  1477900\n",
              "2016-11-25  172.210007  173.990005  172.210007  173.490005  149.273331   945800\n",
              "2016-11-28  173.559998  173.770004  172.279999  172.500000  148.421524  1677700\n",
              "...                ...         ...         ...         ...         ...      ...\n",
              "2021-11-22  179.250000  182.279999  178.779999  179.660004  179.660004  2371900\n",
              "2021-11-23  180.610001  181.320007  178.649994  179.460007  179.460007  1944200\n",
              "2021-11-24  178.970001  179.500000  177.539993  177.630005  177.630005  1488500\n",
              "2021-11-26  174.520004  176.830002  173.399994  175.520004  175.520004  1912300\n",
              "2021-11-29  176.470001  176.829895  174.979996  176.649994  176.649994   953063\n",
              "\n",
              "[1264 rows x 6 columns]"
            ]
          },
          "metadata": {},
          "execution_count": 12
        }
      ]
    },
    {
      "cell_type": "code",
      "metadata": {
        "colab": {
          "base_uri": "https://localhost:8080/",
          "height": 442
        },
        "id": "RcSdlZuCto6k",
        "outputId": "1c0305e5-53d9-4a32-f83c-e098afd58498"
      },
      "source": [
        "IBM"
      ],
      "execution_count": null,
      "outputs": [
        {
          "output_type": "execute_result",
          "data": {
            "text/html": [
              "<div>\n",
              "<style scoped>\n",
              "    .dataframe tbody tr th:only-of-type {\n",
              "        vertical-align: middle;\n",
              "    }\n",
              "\n",
              "    .dataframe tbody tr th {\n",
              "        vertical-align: top;\n",
              "    }\n",
              "\n",
              "    .dataframe thead th {\n",
              "        text-align: right;\n",
              "    }\n",
              "</style>\n",
              "<table border=\"1\" class=\"dataframe\">\n",
              "  <thead>\n",
              "    <tr style=\"text-align: right;\">\n",
              "      <th></th>\n",
              "      <th>Open</th>\n",
              "      <th>High</th>\n",
              "      <th>Low</th>\n",
              "      <th>Close</th>\n",
              "      <th>Adj Close</th>\n",
              "      <th>Volume</th>\n",
              "    </tr>\n",
              "    <tr>\n",
              "      <th>Date</th>\n",
              "      <th></th>\n",
              "      <th></th>\n",
              "      <th></th>\n",
              "      <th></th>\n",
              "      <th></th>\n",
              "      <th></th>\n",
              "    </tr>\n",
              "  </thead>\n",
              "  <tbody>\n",
              "    <tr>\n",
              "      <th>2016-11-21</th>\n",
              "      <td>153.623322</td>\n",
              "      <td>155.831741</td>\n",
              "      <td>153.317398</td>\n",
              "      <td>155.611862</td>\n",
              "      <td>123.720055</td>\n",
              "      <td>4850407</td>\n",
              "    </tr>\n",
              "    <tr>\n",
              "      <th>2016-11-22</th>\n",
              "      <td>155.831741</td>\n",
              "      <td>155.831741</td>\n",
              "      <td>154.827911</td>\n",
              "      <td>155.516251</td>\n",
              "      <td>123.644051</td>\n",
              "      <td>2898257</td>\n",
              "    </tr>\n",
              "    <tr>\n",
              "      <th>2016-11-23</th>\n",
              "      <td>154.818359</td>\n",
              "      <td>155.238998</td>\n",
              "      <td>154.263855</td>\n",
              "      <td>154.856598</td>\n",
              "      <td>123.119568</td>\n",
              "      <td>2356324</td>\n",
              "    </tr>\n",
              "    <tr>\n",
              "      <th>2016-11-25</th>\n",
              "      <td>154.713196</td>\n",
              "      <td>156.013382</td>\n",
              "      <td>154.713196</td>\n",
              "      <td>155.965576</td>\n",
              "      <td>124.001228</td>\n",
              "      <td>1679144</td>\n",
              "    </tr>\n",
              "    <tr>\n",
              "      <th>2016-11-28</th>\n",
              "      <td>156.022949</td>\n",
              "      <td>157.418732</td>\n",
              "      <td>155.544937</td>\n",
              "      <td>157.284897</td>\n",
              "      <td>125.050179</td>\n",
              "      <td>4654072</td>\n",
              "    </tr>\n",
              "    <tr>\n",
              "      <th>...</th>\n",
              "      <td>...</td>\n",
              "      <td>...</td>\n",
              "      <td>...</td>\n",
              "      <td>...</td>\n",
              "      <td>...</td>\n",
              "      <td>...</td>\n",
              "    </tr>\n",
              "    <tr>\n",
              "      <th>2021-11-22</th>\n",
              "      <td>116.000000</td>\n",
              "      <td>118.809998</td>\n",
              "      <td>115.190002</td>\n",
              "      <td>116.470001</td>\n",
              "      <td>116.470001</td>\n",
              "      <td>6416200</td>\n",
              "    </tr>\n",
              "    <tr>\n",
              "      <th>2021-11-23</th>\n",
              "      <td>116.790001</td>\n",
              "      <td>117.940002</td>\n",
              "      <td>116.040001</td>\n",
              "      <td>116.790001</td>\n",
              "      <td>116.790001</td>\n",
              "      <td>4912800</td>\n",
              "    </tr>\n",
              "    <tr>\n",
              "      <th>2021-11-24</th>\n",
              "      <td>116.160004</td>\n",
              "      <td>117.269997</td>\n",
              "      <td>116.080002</td>\n",
              "      <td>116.730003</td>\n",
              "      <td>116.730003</td>\n",
              "      <td>3220800</td>\n",
              "    </tr>\n",
              "    <tr>\n",
              "      <th>2021-11-26</th>\n",
              "      <td>115.000000</td>\n",
              "      <td>116.339996</td>\n",
              "      <td>114.559998</td>\n",
              "      <td>115.809998</td>\n",
              "      <td>115.809998</td>\n",
              "      <td>3322000</td>\n",
              "    </tr>\n",
              "    <tr>\n",
              "      <th>2021-11-29</th>\n",
              "      <td>118.620003</td>\n",
              "      <td>119.250000</td>\n",
              "      <td>117.529999</td>\n",
              "      <td>119.114998</td>\n",
              "      <td>119.114998</td>\n",
              "      <td>4721883</td>\n",
              "    </tr>\n",
              "  </tbody>\n",
              "</table>\n",
              "<p>1264 rows × 6 columns</p>\n",
              "</div>"
            ],
            "text/plain": [
              "                  Open        High         Low       Close   Adj Close   Volume\n",
              "Date                                                                           \n",
              "2016-11-21  153.623322  155.831741  153.317398  155.611862  123.720055  4850407\n",
              "2016-11-22  155.831741  155.831741  154.827911  155.516251  123.644051  2898257\n",
              "2016-11-23  154.818359  155.238998  154.263855  154.856598  123.119568  2356324\n",
              "2016-11-25  154.713196  156.013382  154.713196  155.965576  124.001228  1679144\n",
              "2016-11-28  156.022949  157.418732  155.544937  157.284897  125.050179  4654072\n",
              "...                ...         ...         ...         ...         ...      ...\n",
              "2021-11-22  116.000000  118.809998  115.190002  116.470001  116.470001  6416200\n",
              "2021-11-23  116.790001  117.940002  116.040001  116.790001  116.790001  4912800\n",
              "2021-11-24  116.160004  117.269997  116.080002  116.730003  116.730003  3220800\n",
              "2021-11-26  115.000000  116.339996  114.559998  115.809998  115.809998  3322000\n",
              "2021-11-29  118.620003  119.250000  117.529999  119.114998  119.114998  4721883\n",
              "\n",
              "[1264 rows x 6 columns]"
            ]
          },
          "metadata": {},
          "execution_count": 13
        }
      ]
    },
    {
      "cell_type": "markdown",
      "metadata": {
        "id": "kEequOVZ8sqS"
      },
      "source": [
        "### Response 3: Resample the data to get prices for the end of the business month. Select the Adjusted Close for each stock.\n",
        "\n"
      ]
    },
    {
      "cell_type": "code",
      "metadata": {
        "colab": {
          "base_uri": "https://localhost:8080/",
          "height": 442
        },
        "id": "o3sfhxk19OlH",
        "outputId": "d624b1b8-6551-4cc9-dc8c-084caefca1e3"
      },
      "source": [
        "resampled_FB= FB.resample('BM').last() # The last day of business month\n",
        "resampled_AMZN= amzn.resample('BM').last() # The last day of business month\n",
        "resampled_MMM= MMM.resample('BM').last() # The last day of business month\n",
        "resampled_IBM= IBM.resample('BM').last() # The last day of business month\n",
        "\n",
        "resampled_FB"
      ],
      "execution_count": null,
      "outputs": [
        {
          "output_type": "execute_result",
          "data": {
            "text/html": [
              "<div>\n",
              "<style scoped>\n",
              "    .dataframe tbody tr th:only-of-type {\n",
              "        vertical-align: middle;\n",
              "    }\n",
              "\n",
              "    .dataframe tbody tr th {\n",
              "        vertical-align: top;\n",
              "    }\n",
              "\n",
              "    .dataframe thead th {\n",
              "        text-align: right;\n",
              "    }\n",
              "</style>\n",
              "<table border=\"1\" class=\"dataframe\">\n",
              "  <thead>\n",
              "    <tr style=\"text-align: right;\">\n",
              "      <th></th>\n",
              "      <th>Open</th>\n",
              "      <th>High</th>\n",
              "      <th>Low</th>\n",
              "      <th>Close</th>\n",
              "      <th>Adj Close</th>\n",
              "      <th>Volume</th>\n",
              "    </tr>\n",
              "    <tr>\n",
              "      <th>Date</th>\n",
              "      <th></th>\n",
              "      <th></th>\n",
              "      <th></th>\n",
              "      <th></th>\n",
              "      <th></th>\n",
              "      <th></th>\n",
              "    </tr>\n",
              "  </thead>\n",
              "  <tbody>\n",
              "    <tr>\n",
              "      <th>2016-11-30</th>\n",
              "      <td>120.320000</td>\n",
              "      <td>121.790001</td>\n",
              "      <td>117.949997</td>\n",
              "      <td>118.419998</td>\n",
              "      <td>118.419998</td>\n",
              "      <td>30188900</td>\n",
              "    </tr>\n",
              "    <tr>\n",
              "      <th>2016-12-30</th>\n",
              "      <td>116.599998</td>\n",
              "      <td>116.830002</td>\n",
              "      <td>114.769997</td>\n",
              "      <td>115.050003</td>\n",
              "      <td>115.050003</td>\n",
              "      <td>18684100</td>\n",
              "    </tr>\n",
              "    <tr>\n",
              "      <th>2017-01-31</th>\n",
              "      <td>130.169998</td>\n",
              "      <td>130.660004</td>\n",
              "      <td>129.520004</td>\n",
              "      <td>130.320007</td>\n",
              "      <td>130.320007</td>\n",
              "      <td>19790500</td>\n",
              "    </tr>\n",
              "    <tr>\n",
              "      <th>2017-02-28</th>\n",
              "      <td>136.789993</td>\n",
              "      <td>136.809998</td>\n",
              "      <td>134.750000</td>\n",
              "      <td>135.539993</td>\n",
              "      <td>135.539993</td>\n",
              "      <td>16112100</td>\n",
              "    </tr>\n",
              "    <tr>\n",
              "      <th>2017-03-31</th>\n",
              "      <td>142.309998</td>\n",
              "      <td>142.630005</td>\n",
              "      <td>141.889999</td>\n",
              "      <td>142.050003</td>\n",
              "      <td>142.050003</td>\n",
              "      <td>11478300</td>\n",
              "    </tr>\n",
              "    <tr>\n",
              "      <th>...</th>\n",
              "      <td>...</td>\n",
              "      <td>...</td>\n",
              "      <td>...</td>\n",
              "      <td>...</td>\n",
              "      <td>...</td>\n",
              "      <td>...</td>\n",
              "    </tr>\n",
              "    <tr>\n",
              "      <th>2021-07-30</th>\n",
              "      <td>354.000000</td>\n",
              "      <td>360.730011</td>\n",
              "      <td>352.940002</td>\n",
              "      <td>356.299988</td>\n",
              "      <td>356.299988</td>\n",
              "      <td>15966700</td>\n",
              "    </tr>\n",
              "    <tr>\n",
              "      <th>2021-08-31</th>\n",
              "      <td>379.950012</td>\n",
              "      <td>382.760010</td>\n",
              "      <td>378.799988</td>\n",
              "      <td>379.380005</td>\n",
              "      <td>379.380005</td>\n",
              "      <td>12345400</td>\n",
              "    </tr>\n",
              "    <tr>\n",
              "      <th>2021-09-30</th>\n",
              "      <td>340.450012</td>\n",
              "      <td>342.799988</td>\n",
              "      <td>338.149994</td>\n",
              "      <td>339.390015</td>\n",
              "      <td>339.390015</td>\n",
              "      <td>16547100</td>\n",
              "    </tr>\n",
              "    <tr>\n",
              "      <th>2021-10-29</th>\n",
              "      <td>320.190002</td>\n",
              "      <td>326.000000</td>\n",
              "      <td>319.600006</td>\n",
              "      <td>323.570007</td>\n",
              "      <td>323.570007</td>\n",
              "      <td>37059400</td>\n",
              "    </tr>\n",
              "    <tr>\n",
              "      <th>2021-11-30</th>\n",
              "      <td>336.890015</td>\n",
              "      <td>339.299896</td>\n",
              "      <td>335.304993</td>\n",
              "      <td>337.899994</td>\n",
              "      <td>337.899994</td>\n",
              "      <td>8051018</td>\n",
              "    </tr>\n",
              "  </tbody>\n",
              "</table>\n",
              "<p>61 rows × 6 columns</p>\n",
              "</div>"
            ],
            "text/plain": [
              "                  Open        High  ...   Adj Close    Volume\n",
              "Date                                ...                      \n",
              "2016-11-30  120.320000  121.790001  ...  118.419998  30188900\n",
              "2016-12-30  116.599998  116.830002  ...  115.050003  18684100\n",
              "2017-01-31  130.169998  130.660004  ...  130.320007  19790500\n",
              "2017-02-28  136.789993  136.809998  ...  135.539993  16112100\n",
              "2017-03-31  142.309998  142.630005  ...  142.050003  11478300\n",
              "...                ...         ...  ...         ...       ...\n",
              "2021-07-30  354.000000  360.730011  ...  356.299988  15966700\n",
              "2021-08-31  379.950012  382.760010  ...  379.380005  12345400\n",
              "2021-09-30  340.450012  342.799988  ...  339.390015  16547100\n",
              "2021-10-29  320.190002  326.000000  ...  323.570007  37059400\n",
              "2021-11-30  336.890015  339.299896  ...  337.899994   8051018\n",
              "\n",
              "[61 rows x 6 columns]"
            ]
          },
          "metadata": {},
          "execution_count": 14
        }
      ]
    },
    {
      "cell_type": "code",
      "metadata": {
        "colab": {
          "base_uri": "https://localhost:8080/",
          "height": 442
        },
        "id": "jxxav11nBoWT",
        "outputId": "ba69f857-de31-4d85-ff75-19fb375214fb"
      },
      "source": [
        "resampled_AMZN"
      ],
      "execution_count": null,
      "outputs": [
        {
          "output_type": "execute_result",
          "data": {
            "text/html": [
              "<div>\n",
              "<style scoped>\n",
              "    .dataframe tbody tr th:only-of-type {\n",
              "        vertical-align: middle;\n",
              "    }\n",
              "\n",
              "    .dataframe tbody tr th {\n",
              "        vertical-align: top;\n",
              "    }\n",
              "\n",
              "    .dataframe thead th {\n",
              "        text-align: right;\n",
              "    }\n",
              "</style>\n",
              "<table border=\"1\" class=\"dataframe\">\n",
              "  <thead>\n",
              "    <tr style=\"text-align: right;\">\n",
              "      <th></th>\n",
              "      <th>Open</th>\n",
              "      <th>High</th>\n",
              "      <th>Low</th>\n",
              "      <th>Close</th>\n",
              "      <th>Adj Close</th>\n",
              "      <th>Volume</th>\n",
              "    </tr>\n",
              "    <tr>\n",
              "      <th>Date</th>\n",
              "      <th></th>\n",
              "      <th></th>\n",
              "      <th></th>\n",
              "      <th></th>\n",
              "      <th></th>\n",
              "      <th></th>\n",
              "    </tr>\n",
              "  </thead>\n",
              "  <tbody>\n",
              "    <tr>\n",
              "      <th>2016-11-30</th>\n",
              "      <td>762.000000</td>\n",
              "      <td>768.090027</td>\n",
              "      <td>750.250000</td>\n",
              "      <td>750.570007</td>\n",
              "      <td>750.570007</td>\n",
              "      <td>4625900</td>\n",
              "    </tr>\n",
              "    <tr>\n",
              "      <th>2016-12-30</th>\n",
              "      <td>766.469971</td>\n",
              "      <td>767.400024</td>\n",
              "      <td>748.280029</td>\n",
              "      <td>749.869995</td>\n",
              "      <td>749.869995</td>\n",
              "      <td>4139400</td>\n",
              "    </tr>\n",
              "    <tr>\n",
              "      <th>2017-01-31</th>\n",
              "      <td>823.750000</td>\n",
              "      <td>826.989990</td>\n",
              "      <td>819.559998</td>\n",
              "      <td>823.479980</td>\n",
              "      <td>823.479980</td>\n",
              "      <td>3137200</td>\n",
              "    </tr>\n",
              "    <tr>\n",
              "      <th>2017-02-28</th>\n",
              "      <td>851.450012</td>\n",
              "      <td>854.090027</td>\n",
              "      <td>842.049988</td>\n",
              "      <td>845.039978</td>\n",
              "      <td>845.039978</td>\n",
              "      <td>2793700</td>\n",
              "    </tr>\n",
              "    <tr>\n",
              "      <th>2017-03-31</th>\n",
              "      <td>877.000000</td>\n",
              "      <td>890.349976</td>\n",
              "      <td>876.650024</td>\n",
              "      <td>886.539978</td>\n",
              "      <td>886.539978</td>\n",
              "      <td>3957600</td>\n",
              "    </tr>\n",
              "    <tr>\n",
              "      <th>...</th>\n",
              "      <td>...</td>\n",
              "      <td>...</td>\n",
              "      <td>...</td>\n",
              "      <td>...</td>\n",
              "      <td>...</td>\n",
              "      <td>...</td>\n",
              "    </tr>\n",
              "    <tr>\n",
              "      <th>2021-07-30</th>\n",
              "      <td>3347.949951</td>\n",
              "      <td>3368.139893</td>\n",
              "      <td>3306.979980</td>\n",
              "      <td>3327.590088</td>\n",
              "      <td>3327.590088</td>\n",
              "      <td>9957100</td>\n",
              "    </tr>\n",
              "    <tr>\n",
              "      <th>2021-08-31</th>\n",
              "      <td>3424.800049</td>\n",
              "      <td>3472.580078</td>\n",
              "      <td>3395.590088</td>\n",
              "      <td>3470.790039</td>\n",
              "      <td>3470.790039</td>\n",
              "      <td>4356400</td>\n",
              "    </tr>\n",
              "    <tr>\n",
              "      <th>2021-09-30</th>\n",
              "      <td>3316.000000</td>\n",
              "      <td>3327.850098</td>\n",
              "      <td>3273.989990</td>\n",
              "      <td>3285.040039</td>\n",
              "      <td>3285.040039</td>\n",
              "      <td>2842400</td>\n",
              "    </tr>\n",
              "    <tr>\n",
              "      <th>2021-10-29</th>\n",
              "      <td>3300.020020</td>\n",
              "      <td>3374.820068</td>\n",
              "      <td>3273.320068</td>\n",
              "      <td>3372.429932</td>\n",
              "      <td>3372.429932</td>\n",
              "      <td>6469500</td>\n",
              "    </tr>\n",
              "    <tr>\n",
              "      <th>2021-11-30</th>\n",
              "      <td>3547.644287</td>\n",
              "      <td>3592.449951</td>\n",
              "      <td>3531.500000</td>\n",
              "      <td>3585.320068</td>\n",
              "      <td>3585.320068</td>\n",
              "      <td>1811831</td>\n",
              "    </tr>\n",
              "  </tbody>\n",
              "</table>\n",
              "<p>61 rows × 6 columns</p>\n",
              "</div>"
            ],
            "text/plain": [
              "                   Open         High  ...    Adj Close   Volume\n",
              "Date                                  ...                      \n",
              "2016-11-30   762.000000   768.090027  ...   750.570007  4625900\n",
              "2016-12-30   766.469971   767.400024  ...   749.869995  4139400\n",
              "2017-01-31   823.750000   826.989990  ...   823.479980  3137200\n",
              "2017-02-28   851.450012   854.090027  ...   845.039978  2793700\n",
              "2017-03-31   877.000000   890.349976  ...   886.539978  3957600\n",
              "...                 ...          ...  ...          ...      ...\n",
              "2021-07-30  3347.949951  3368.139893  ...  3327.590088  9957100\n",
              "2021-08-31  3424.800049  3472.580078  ...  3470.790039  4356400\n",
              "2021-09-30  3316.000000  3327.850098  ...  3285.040039  2842400\n",
              "2021-10-29  3300.020020  3374.820068  ...  3372.429932  6469500\n",
              "2021-11-30  3547.644287  3592.449951  ...  3585.320068  1811831\n",
              "\n",
              "[61 rows x 6 columns]"
            ]
          },
          "metadata": {},
          "execution_count": 15
        }
      ]
    },
    {
      "cell_type": "markdown",
      "metadata": {
        "id": "K6hg5Mr3CWEQ"
      },
      "source": [
        "## Select the Adjusted Close for each stock."
      ]
    },
    {
      "cell_type": "code",
      "metadata": {
        "id": "NSqUVeHBDsYx"
      },
      "source": [
        "#adjusted_close_FB=resampled_FB['Adj Close']\n",
        "#adjusted_close_FB"
      ],
      "execution_count": null,
      "outputs": []
    },
    {
      "cell_type": "code",
      "metadata": {
        "colab": {
          "base_uri": "https://localhost:8080/",
          "height": 442
        },
        "id": "0zhkublPmoQS",
        "outputId": "bf32e867-ca88-45ad-a61a-c5587c5c2ee6"
      },
      "source": [
        "# adujted_close with pandas\n",
        "adjusted_close_FB=resampled_FB.loc[:,['Adj Close']]\n",
        "adjusted_close_FB"
      ],
      "execution_count": null,
      "outputs": [
        {
          "output_type": "execute_result",
          "data": {
            "text/html": [
              "<div>\n",
              "<style scoped>\n",
              "    .dataframe tbody tr th:only-of-type {\n",
              "        vertical-align: middle;\n",
              "    }\n",
              "\n",
              "    .dataframe tbody tr th {\n",
              "        vertical-align: top;\n",
              "    }\n",
              "\n",
              "    .dataframe thead th {\n",
              "        text-align: right;\n",
              "    }\n",
              "</style>\n",
              "<table border=\"1\" class=\"dataframe\">\n",
              "  <thead>\n",
              "    <tr style=\"text-align: right;\">\n",
              "      <th></th>\n",
              "      <th>Adj Close</th>\n",
              "    </tr>\n",
              "    <tr>\n",
              "      <th>Date</th>\n",
              "      <th></th>\n",
              "    </tr>\n",
              "  </thead>\n",
              "  <tbody>\n",
              "    <tr>\n",
              "      <th>2016-11-30</th>\n",
              "      <td>118.419998</td>\n",
              "    </tr>\n",
              "    <tr>\n",
              "      <th>2016-12-30</th>\n",
              "      <td>115.050003</td>\n",
              "    </tr>\n",
              "    <tr>\n",
              "      <th>2017-01-31</th>\n",
              "      <td>130.320007</td>\n",
              "    </tr>\n",
              "    <tr>\n",
              "      <th>2017-02-28</th>\n",
              "      <td>135.539993</td>\n",
              "    </tr>\n",
              "    <tr>\n",
              "      <th>2017-03-31</th>\n",
              "      <td>142.050003</td>\n",
              "    </tr>\n",
              "    <tr>\n",
              "      <th>...</th>\n",
              "      <td>...</td>\n",
              "    </tr>\n",
              "    <tr>\n",
              "      <th>2021-07-30</th>\n",
              "      <td>356.299988</td>\n",
              "    </tr>\n",
              "    <tr>\n",
              "      <th>2021-08-31</th>\n",
              "      <td>379.380005</td>\n",
              "    </tr>\n",
              "    <tr>\n",
              "      <th>2021-09-30</th>\n",
              "      <td>339.390015</td>\n",
              "    </tr>\n",
              "    <tr>\n",
              "      <th>2021-10-29</th>\n",
              "      <td>323.570007</td>\n",
              "    </tr>\n",
              "    <tr>\n",
              "      <th>2021-11-30</th>\n",
              "      <td>337.899994</td>\n",
              "    </tr>\n",
              "  </tbody>\n",
              "</table>\n",
              "<p>61 rows × 1 columns</p>\n",
              "</div>"
            ],
            "text/plain": [
              "             Adj Close\n",
              "Date                  \n",
              "2016-11-30  118.419998\n",
              "2016-12-30  115.050003\n",
              "2017-01-31  130.320007\n",
              "2017-02-28  135.539993\n",
              "2017-03-31  142.050003\n",
              "...                ...\n",
              "2021-07-30  356.299988\n",
              "2021-08-31  379.380005\n",
              "2021-09-30  339.390015\n",
              "2021-10-29  323.570007\n",
              "2021-11-30  337.899994\n",
              "\n",
              "[61 rows x 1 columns]"
            ]
          },
          "metadata": {},
          "execution_count": 17
        }
      ]
    },
    {
      "cell_type": "code",
      "metadata": {
        "colab": {
          "base_uri": "https://localhost:8080/",
          "height": 442
        },
        "id": "K_Ok-Mr1nSAi",
        "outputId": "c913bc92-f31d-41c1-81e5-81b19f6827af"
      },
      "source": [
        "adjusted_close_AMZN=resampled_AMZN.loc[:,['Adj Close']]\n",
        "adjusted_close_AMZN"
      ],
      "execution_count": null,
      "outputs": [
        {
          "output_type": "execute_result",
          "data": {
            "text/html": [
              "<div>\n",
              "<style scoped>\n",
              "    .dataframe tbody tr th:only-of-type {\n",
              "        vertical-align: middle;\n",
              "    }\n",
              "\n",
              "    .dataframe tbody tr th {\n",
              "        vertical-align: top;\n",
              "    }\n",
              "\n",
              "    .dataframe thead th {\n",
              "        text-align: right;\n",
              "    }\n",
              "</style>\n",
              "<table border=\"1\" class=\"dataframe\">\n",
              "  <thead>\n",
              "    <tr style=\"text-align: right;\">\n",
              "      <th></th>\n",
              "      <th>Adj Close</th>\n",
              "    </tr>\n",
              "    <tr>\n",
              "      <th>Date</th>\n",
              "      <th></th>\n",
              "    </tr>\n",
              "  </thead>\n",
              "  <tbody>\n",
              "    <tr>\n",
              "      <th>2016-11-30</th>\n",
              "      <td>750.570007</td>\n",
              "    </tr>\n",
              "    <tr>\n",
              "      <th>2016-12-30</th>\n",
              "      <td>749.869995</td>\n",
              "    </tr>\n",
              "    <tr>\n",
              "      <th>2017-01-31</th>\n",
              "      <td>823.479980</td>\n",
              "    </tr>\n",
              "    <tr>\n",
              "      <th>2017-02-28</th>\n",
              "      <td>845.039978</td>\n",
              "    </tr>\n",
              "    <tr>\n",
              "      <th>2017-03-31</th>\n",
              "      <td>886.539978</td>\n",
              "    </tr>\n",
              "    <tr>\n",
              "      <th>...</th>\n",
              "      <td>...</td>\n",
              "    </tr>\n",
              "    <tr>\n",
              "      <th>2021-07-30</th>\n",
              "      <td>3327.590088</td>\n",
              "    </tr>\n",
              "    <tr>\n",
              "      <th>2021-08-31</th>\n",
              "      <td>3470.790039</td>\n",
              "    </tr>\n",
              "    <tr>\n",
              "      <th>2021-09-30</th>\n",
              "      <td>3285.040039</td>\n",
              "    </tr>\n",
              "    <tr>\n",
              "      <th>2021-10-29</th>\n",
              "      <td>3372.429932</td>\n",
              "    </tr>\n",
              "    <tr>\n",
              "      <th>2021-11-30</th>\n",
              "      <td>3585.320068</td>\n",
              "    </tr>\n",
              "  </tbody>\n",
              "</table>\n",
              "<p>61 rows × 1 columns</p>\n",
              "</div>"
            ],
            "text/plain": [
              "              Adj Close\n",
              "Date                   \n",
              "2016-11-30   750.570007\n",
              "2016-12-30   749.869995\n",
              "2017-01-31   823.479980\n",
              "2017-02-28   845.039978\n",
              "2017-03-31   886.539978\n",
              "...                 ...\n",
              "2021-07-30  3327.590088\n",
              "2021-08-31  3470.790039\n",
              "2021-09-30  3285.040039\n",
              "2021-10-29  3372.429932\n",
              "2021-11-30  3585.320068\n",
              "\n",
              "[61 rows x 1 columns]"
            ]
          },
          "metadata": {},
          "execution_count": 18
        }
      ]
    },
    {
      "cell_type": "code",
      "metadata": {
        "colab": {
          "base_uri": "https://localhost:8080/",
          "height": 442
        },
        "id": "EXcX82MMnbdm",
        "outputId": "a1b04c75-15ac-4f95-8d6a-d6258f754388"
      },
      "source": [
        "adjusted_close_MMM=resampled_MMM.loc[:,['Adj Close']]\n",
        "adjusted_close_MMM"
      ],
      "execution_count": null,
      "outputs": [
        {
          "output_type": "execute_result",
          "data": {
            "text/html": [
              "<div>\n",
              "<style scoped>\n",
              "    .dataframe tbody tr th:only-of-type {\n",
              "        vertical-align: middle;\n",
              "    }\n",
              "\n",
              "    .dataframe tbody tr th {\n",
              "        vertical-align: top;\n",
              "    }\n",
              "\n",
              "    .dataframe thead th {\n",
              "        text-align: right;\n",
              "    }\n",
              "</style>\n",
              "<table border=\"1\" class=\"dataframe\">\n",
              "  <thead>\n",
              "    <tr style=\"text-align: right;\">\n",
              "      <th></th>\n",
              "      <th>Adj Close</th>\n",
              "    </tr>\n",
              "    <tr>\n",
              "      <th>Date</th>\n",
              "      <th></th>\n",
              "    </tr>\n",
              "  </thead>\n",
              "  <tbody>\n",
              "    <tr>\n",
              "      <th>2016-11-30</th>\n",
              "      <td>147.767578</td>\n",
              "    </tr>\n",
              "    <tr>\n",
              "      <th>2016-12-30</th>\n",
              "      <td>153.644257</td>\n",
              "    </tr>\n",
              "    <tr>\n",
              "      <th>2017-01-31</th>\n",
              "      <td>150.417679</td>\n",
              "    </tr>\n",
              "    <tr>\n",
              "      <th>2017-02-28</th>\n",
              "      <td>161.382431</td>\n",
              "    </tr>\n",
              "    <tr>\n",
              "      <th>2017-03-31</th>\n",
              "      <td>165.695236</td>\n",
              "    </tr>\n",
              "    <tr>\n",
              "      <th>...</th>\n",
              "      <td>...</td>\n",
              "    </tr>\n",
              "    <tr>\n",
              "      <th>2021-07-30</th>\n",
              "      <td>194.854706</td>\n",
              "    </tr>\n",
              "    <tr>\n",
              "      <th>2021-08-31</th>\n",
              "      <td>193.167984</td>\n",
              "    </tr>\n",
              "    <tr>\n",
              "      <th>2021-09-30</th>\n",
              "      <td>174.003937</td>\n",
              "    </tr>\n",
              "    <tr>\n",
              "      <th>2021-10-29</th>\n",
              "      <td>177.237610</td>\n",
              "    </tr>\n",
              "    <tr>\n",
              "      <th>2021-11-30</th>\n",
              "      <td>176.649994</td>\n",
              "    </tr>\n",
              "  </tbody>\n",
              "</table>\n",
              "<p>61 rows × 1 columns</p>\n",
              "</div>"
            ],
            "text/plain": [
              "             Adj Close\n",
              "Date                  \n",
              "2016-11-30  147.767578\n",
              "2016-12-30  153.644257\n",
              "2017-01-31  150.417679\n",
              "2017-02-28  161.382431\n",
              "2017-03-31  165.695236\n",
              "...                ...\n",
              "2021-07-30  194.854706\n",
              "2021-08-31  193.167984\n",
              "2021-09-30  174.003937\n",
              "2021-10-29  177.237610\n",
              "2021-11-30  176.649994\n",
              "\n",
              "[61 rows x 1 columns]"
            ]
          },
          "metadata": {},
          "execution_count": 19
        }
      ]
    },
    {
      "cell_type": "code",
      "metadata": {
        "colab": {
          "base_uri": "https://localhost:8080/",
          "height": 442
        },
        "id": "XRYGsxTznkQh",
        "outputId": "bb8089f2-72e4-44b4-8732-14601fcd80f4"
      },
      "source": [
        "adjusted_close_IBM=resampled_IBM.loc[:,['Adj Close']]\n",
        "adjusted_close_IBM"
      ],
      "execution_count": null,
      "outputs": [
        {
          "output_type": "execute_result",
          "data": {
            "text/html": [
              "<div>\n",
              "<style scoped>\n",
              "    .dataframe tbody tr th:only-of-type {\n",
              "        vertical-align: middle;\n",
              "    }\n",
              "\n",
              "    .dataframe tbody tr th {\n",
              "        vertical-align: top;\n",
              "    }\n",
              "\n",
              "    .dataframe thead th {\n",
              "        text-align: right;\n",
              "    }\n",
              "</style>\n",
              "<table border=\"1\" class=\"dataframe\">\n",
              "  <thead>\n",
              "    <tr style=\"text-align: right;\">\n",
              "      <th></th>\n",
              "      <th>Adj Close</th>\n",
              "    </tr>\n",
              "    <tr>\n",
              "      <th>Date</th>\n",
              "      <th></th>\n",
              "    </tr>\n",
              "  </thead>\n",
              "  <tbody>\n",
              "    <tr>\n",
              "      <th>2016-11-30</th>\n",
              "      <td>123.301979</td>\n",
              "    </tr>\n",
              "    <tr>\n",
              "      <th>2016-12-30</th>\n",
              "      <td>126.167511</td>\n",
              "    </tr>\n",
              "    <tr>\n",
              "      <th>2017-01-31</th>\n",
              "      <td>132.651093</td>\n",
              "    </tr>\n",
              "    <tr>\n",
              "      <th>2017-02-28</th>\n",
              "      <td>137.760284</td>\n",
              "    </tr>\n",
              "    <tr>\n",
              "      <th>2017-03-31</th>\n",
              "      <td>133.408844</td>\n",
              "    </tr>\n",
              "    <tr>\n",
              "      <th>...</th>\n",
              "      <td>...</td>\n",
              "    </tr>\n",
              "    <tr>\n",
              "      <th>2021-07-30</th>\n",
              "      <td>131.472778</td>\n",
              "    </tr>\n",
              "    <tr>\n",
              "      <th>2021-08-31</th>\n",
              "      <td>132.401474</td>\n",
              "    </tr>\n",
              "    <tr>\n",
              "      <th>2021-09-30</th>\n",
              "      <td>131.071228</td>\n",
              "    </tr>\n",
              "    <tr>\n",
              "      <th>2021-10-29</th>\n",
              "      <td>118.023544</td>\n",
              "    </tr>\n",
              "    <tr>\n",
              "      <th>2021-11-30</th>\n",
              "      <td>119.114998</td>\n",
              "    </tr>\n",
              "  </tbody>\n",
              "</table>\n",
              "<p>61 rows × 1 columns</p>\n",
              "</div>"
            ],
            "text/plain": [
              "             Adj Close\n",
              "Date                  \n",
              "2016-11-30  123.301979\n",
              "2016-12-30  126.167511\n",
              "2017-01-31  132.651093\n",
              "2017-02-28  137.760284\n",
              "2017-03-31  133.408844\n",
              "...                ...\n",
              "2021-07-30  131.472778\n",
              "2021-08-31  132.401474\n",
              "2021-09-30  131.071228\n",
              "2021-10-29  118.023544\n",
              "2021-11-30  119.114998\n",
              "\n",
              "[61 rows x 1 columns]"
            ]
          },
          "metadata": {},
          "execution_count": 20
        }
      ]
    },
    {
      "cell_type": "markdown",
      "metadata": {
        "id": "l1Vm5Of6Eae3"
      },
      "source": [
        "###Response 4:  Use the pandas autocorrelation_plot() function to plot the autocorrelation of the adjusted month-end close prices for each of the stock\n"
      ]
    },
    {
      "cell_type": "code",
      "metadata": {
        "colab": {
          "base_uri": "https://localhost:8080/",
          "height": 409
        },
        "id": "h43QuPwhEaER",
        "outputId": "940e356f-044b-482b-cb54-f91421576f3a"
      },
      "source": [
        "autocorrelation_plot(adjusted_close_FB)"
      ],
      "execution_count": null,
      "outputs": [
        {
          "output_type": "execute_result",
          "data": {
            "text/plain": [
              "<matplotlib.axes._subplots.AxesSubplot at 0x7f76bfff0510>"
            ]
          },
          "metadata": {},
          "execution_count": 21
        },
        {
          "output_type": "display_data",
          "data": {
            "image/png": "[encoded data removed]",
            "text/plain": [
              "<Figure size 1080x432 with 1 Axes>"
            ]
          },
          "metadata": {
            "needs_background": "light"
          }
        }
      ]
    },
    {
      "cell_type": "code",
      "metadata": {
        "colab": {
          "base_uri": "https://localhost:8080/",
          "height": 409
        },
        "id": "12HCfh1Jnu7R",
        "outputId": "0844414d-29a8-434f-fc0e-031bd4eb1afa"
      },
      "source": [
        "autocorrelation_plot(adjusted_close_AMZN)"
      ],
      "execution_count": null,
      "outputs": [
        {
          "output_type": "execute_result",
          "data": {
            "text/plain": [
              "<matplotlib.axes._subplots.AxesSubplot at 0x7f76aea81650>"
            ]
          },
          "metadata": {},
          "execution_count": 22
        },
        {
          "output_type": "display_data",
          "data": {
            "image/png": "[encoded data removed]",
            "text/plain": [
              "<Figure size 1080x432 with 1 Axes>"
            ]
          },
          "metadata": {
            "needs_background": "light"
          }
        }
      ]
    },
    {
      "cell_type": "code",
      "metadata": {
        "colab": {
          "base_uri": "https://localhost:8080/",
          "height": 409
        },
        "id": "pAnuUM67nzR2",
        "outputId": "0008ad14-72c7-4227-d5c7-3b77bd2f0d39"
      },
      "source": [
        "autocorrelation_plot(adjusted_close_MMM)"
      ],
      "execution_count": null,
      "outputs": [
        {
          "output_type": "execute_result",
          "data": {
            "text/plain": [
              "<matplotlib.axes._subplots.AxesSubplot at 0x7f76ae56b7d0>"
            ]
          },
          "metadata": {},
          "execution_count": 23
        },
        {
          "output_type": "display_data",
          "data": {
            "image/png": "[encoded data removed]",
            "text/plain": [
              "<Figure size 1080x432 with 1 Axes>"
            ]
          },
          "metadata": {
            "needs_background": "light"
          }
        }
      ]
    },
    {
      "cell_type": "code",
      "metadata": {
        "colab": {
          "base_uri": "https://localhost:8080/",
          "height": 409
        },
        "id": "Kdr1FuCDn1_f",
        "outputId": "02fa053b-cb96-4f30-bce5-93ee8be7d497"
      },
      "source": [
        "autocorrelation_plot(adjusted_close_IBM)"
      ],
      "execution_count": null,
      "outputs": [
        {
          "output_type": "execute_result",
          "data": {
            "text/plain": [
              "<matplotlib.axes._subplots.AxesSubplot at 0x7f76ae4f6c10>"
            ]
          },
          "metadata": {},
          "execution_count": 24
        },
        {
          "output_type": "display_data",
          "data": {
            "image/png": "[encoded data removed]",
            "text/plain": [
              "<Figure size 1080x432 with 1 Axes>"
            ]
          },
          "metadata": {
            "needs_background": "light"
          }
        }
      ]
    },
    {
      "cell_type": "markdown",
      "metadata": {
        "id": "1PkN3a6Qoyi9"
      },
      "source": [
        "**Explanation**"
      ]
    },
    {
      "cell_type": "markdown",
      "metadata": {
        "id": "YLM6x4vB9Gw_"
      },
      "source": [
        "I can calculate the autocorrelation with Pandas autocorr() function which returns the value of the Pearson correlation coefficient. The Pearson correlation coefficient is a measure of the linear correlation between two variables. The Pearson correlation coefficient has a value between -1 and 1, where 0 is no linear correlation, >0 is a  positive and strong correlation, and <0  is a negative and strong correlation."
      ]
    },
    {
      "cell_type": "markdown",
      "metadata": {
        "id": "KjlLBSHiI5rk"
      },
      "source": [
        "**Facebook**"
      ]
    },
    {
      "cell_type": "code",
      "metadata": {
        "colab": {
          "base_uri": "https://localhost:8080/"
        },
        "id": "42PHlJBP31bi",
        "outputId": "0ed85868-a1d2-4286-f7bc-fefcfdaf554e"
      },
      "source": [
        "\n",
        "shift_1 = resampled_FB['Adj Close'].autocorr(lag=1)\n",
        "print(shift_1)"
      ],
      "execution_count": null,
      "outputs": [
        {
          "output_type": "stream",
          "name": "stdout",
          "text": [
            "0.9673941963309601\n"
          ]
        },
        {
          "output_type": "execute_result",
          "data": {
            "text/plain": [
              "0.17849760131784975"
            ]
          },
          "metadata": {},
          "execution_count": 44
        }
      ]
    },
    {
      "cell_type": "code",
      "metadata": {
        "colab": {
          "base_uri": "https://localhost:8080/",
          "height": 390
        },
        "id": "CVhukyUM6Caj",
        "outputId": "7f8536a9-791c-4aab-b7c7-2dfefec26557"
      },
      "source": [
        "plot_acf(resampled_FB['Adj Close'], lags=20)\n",
        "plt.show()"
      ],
      "execution_count": null,
      "outputs": [
        {
          "output_type": "display_data",
          "data": {
            "image/png": "[encoded data removed]",
            "text/plain": [
              "<Figure size 1080x432 with 1 Axes>"
            ]
          },
          "metadata": {
            "needs_background": "light"
          }
        }
      ]
    },
    {
      "cell_type": "markdown",
      "metadata": {
        "id": "jDhp81LmAazW"
      },
      "source": [
        "From this plot, we see that values for the ACF are within 95 percent confidence interval (represented by the blue part) for lags > 0, which verifies that our data doesn’t have any autocorrelation"
      ]
    },
    {
      "cell_type": "markdown",
      "metadata": {
        "id": "jAYXYfzKI_eC"
      },
      "source": [
        "**Amzon**"
      ]
    },
    {
      "cell_type": "code",
      "metadata": {
        "colab": {
          "base_uri": "https://localhost:8080/"
        },
        "id": "ZrmLgSrVJDjB",
        "outputId": "64e2aa75-4a47-40d4-8f8f-35074d11820f"
      },
      "source": [
        "shift_2 = resampled_AMZN['Adj Close'].autocorr(lag=1)\n",
        "print(shift_2)"
      ],
      "execution_count": null,
      "outputs": [
        {
          "output_type": "stream",
          "name": "stdout",
          "text": [
            "0.9822023738726287\n"
          ]
        }
      ]
    },
    {
      "cell_type": "code",
      "metadata": {
        "colab": {
          "base_uri": "https://localhost:8080/",
          "height": 390
        },
        "id": "udE9FtHmJSZE",
        "outputId": "04e24eb9-25a9-48c4-f179-0f954d31bc5e"
      },
      "source": [
        "plot_acf(resampled_AMZN['Adj Close'], lags=20)\n",
        "plt.show()"
      ],
      "execution_count": null,
      "outputs": [
        {
          "output_type": "display_data",
          "data": {
            "image/png": "[encoded data removed]",
            "text/plain": [
              "<Figure size 1080x432 with 1 Axes>"
            ]
          },
          "metadata": {
            "needs_background": "light"
          }
        }
      ]
    },
    {
      "cell_type": "markdown",
      "metadata": {
        "id": "eH-DuchpJbOa"
      },
      "source": [
        "**MMM**"
      ]
    },
    {
      "cell_type": "code",
      "metadata": {
        "colab": {
          "base_uri": "https://localhost:8080/"
        },
        "id": "M2Jlsd61Jdn_",
        "outputId": "362016d8-85c5-4ffd-d2fe-7585fabc18c0"
      },
      "source": [
        "shift_3 = resampled_MMM['Adj Close'].autocorr(lag=1)\n",
        "print(shift_3)"
      ],
      "execution_count": null,
      "outputs": [
        {
          "output_type": "stream",
          "name": "stdout",
          "text": [
            "0.8691716239805367\n"
          ]
        }
      ]
    },
    {
      "cell_type": "code",
      "metadata": {
        "colab": {
          "base_uri": "https://localhost:8080/",
          "height": 390
        },
        "id": "94O0n5t7JiYR",
        "outputId": "c4b318ad-a1b1-487c-e4a6-37e863a07794"
      },
      "source": [
        "plot_acf(resampled_MMM['Adj Close'], lags=20)\n",
        "plt.show()"
      ],
      "execution_count": null,
      "outputs": [
        {
          "output_type": "display_data",
          "data": {
            "image/png": "[encoded data removed]",
            "text/plain": [
              "<Figure size 1080x432 with 1 Axes>"
            ]
          },
          "metadata": {
            "needs_background": "light"
          }
        }
      ]
    },
    {
      "cell_type": "markdown",
      "metadata": {
        "id": "vu5m8glAJxeo"
      },
      "source": [
        "**IBM**"
      ]
    },
    {
      "cell_type": "code",
      "metadata": {
        "colab": {
          "base_uri": "https://localhost:8080/"
        },
        "id": "vNvBxgoMJ0YQ",
        "outputId": "2034c659-7726-43a8-840d-dcccabbeecfd"
      },
      "source": [
        "shift_4 = resampled_IBM['Adj Close'].autocorr(lag=1)\n",
        "print(shift_4)"
      ],
      "execution_count": null,
      "outputs": [
        {
          "output_type": "stream",
          "name": "stdout",
          "text": [
            "0.680589193924011\n"
          ]
        }
      ]
    },
    {
      "cell_type": "code",
      "metadata": {
        "colab": {
          "base_uri": "https://localhost:8080/",
          "height": 390
        },
        "id": "yRbacaFgJ9Vs",
        "outputId": "9400539b-e883-4303-80a6-f06daf90b317"
      },
      "source": [
        "plot_acf(resampled_IBM['Adj Close'], lags=20)\n",
        "plt.show()"
      ],
      "execution_count": null,
      "outputs": [
        {
          "output_type": "display_data",
          "data": {
            "image/png": "[encoded data removed]",
            "text/plain": [
              "<Figure size 1080x432 with 1 Axes>"
            ]
          },
          "metadata": {
            "needs_background": "light"
          }
        }
      ]
    },
    {
      "cell_type": "code",
      "metadata": {
        "id": "5lkNzyO1NhLb"
      },
      "source": [
        ""
      ],
      "execution_count": null,
      "outputs": []
    },
    {
      "cell_type": "markdown",
      "metadata": {
        "id": "e2MrEf3E3IYE"
      },
      "source": [
        "From looking at the plots above, it’s not obviously apparent whether or not our data will have any autocorrelation. For example, we can’t detect the presence of seasonality, which would yield high autocorrelation."
      ]
    },
    {
      "cell_type": "markdown",
      "metadata": {
        "id": "3GDGFGa6Nm_V"
      },
      "source": [
        "The dotted lines: as we can observe, the data lines are just above and below the first quartile, or within the 95% confidence interval. This will indicate the significance of the correlation. If the line is above or below the dotted line, not in between, we can say that the correlation is significant, and that the adjusted closed value is correlated to time"
      ]
    },
    {
      "cell_type": "markdown",
      "metadata": {
        "id": "bqLfq8xQobFo"
      },
      "source": [
        "### Response 5:  The monthly returns for each stock"
      ]
    },
    {
      "cell_type": "code",
      "metadata": {
        "colab": {
          "base_uri": "https://localhost:8080/",
          "height": 442
        },
        "id": "UeSnq8a4tfEt",
        "outputId": "31a2ea1c-6543-4048-fbe5-e3699d65cbac"
      },
      "source": [
        "FB_return = adjusted_close_FB/adjusted_close_FB.shift()\n",
        "FB_return"
      ],
      "execution_count": null,
      "outputs": [
        {
          "output_type": "execute_result",
          "data": {
            "text/html": [
              "<div>\n",
              "<style scoped>\n",
              "    .dataframe tbody tr th:only-of-type {\n",
              "        vertical-align: middle;\n",
              "    }\n",
              "\n",
              "    .dataframe tbody tr th {\n",
              "        vertical-align: top;\n",
              "    }\n",
              "\n",
              "    .dataframe thead th {\n",
              "        text-align: right;\n",
              "    }\n",
              "</style>\n",
              "<table border=\"1\" class=\"dataframe\">\n",
              "  <thead>\n",
              "    <tr style=\"text-align: right;\">\n",
              "      <th></th>\n",
              "      <th>Adj Close</th>\n",
              "    </tr>\n",
              "    <tr>\n",
              "      <th>Date</th>\n",
              "      <th></th>\n",
              "    </tr>\n",
              "  </thead>\n",
              "  <tbody>\n",
              "    <tr>\n",
              "      <th>2016-11-30</th>\n",
              "      <td>NaN</td>\n",
              "    </tr>\n",
              "    <tr>\n",
              "      <th>2016-12-30</th>\n",
              "      <td>0.971542</td>\n",
              "    </tr>\n",
              "    <tr>\n",
              "      <th>2017-01-31</th>\n",
              "      <td>1.132725</td>\n",
              "    </tr>\n",
              "    <tr>\n",
              "      <th>2017-02-28</th>\n",
              "      <td>1.040055</td>\n",
              "    </tr>\n",
              "    <tr>\n",
              "      <th>2017-03-31</th>\n",
              "      <td>1.048030</td>\n",
              "    </tr>\n",
              "    <tr>\n",
              "      <th>...</th>\n",
              "      <td>...</td>\n",
              "    </tr>\n",
              "    <tr>\n",
              "      <th>2021-07-30</th>\n",
              "      <td>1.024704</td>\n",
              "    </tr>\n",
              "    <tr>\n",
              "      <th>2021-08-31</th>\n",
              "      <td>1.064777</td>\n",
              "    </tr>\n",
              "    <tr>\n",
              "      <th>2021-09-30</th>\n",
              "      <td>0.894591</td>\n",
              "    </tr>\n",
              "    <tr>\n",
              "      <th>2021-10-29</th>\n",
              "      <td>0.953387</td>\n",
              "    </tr>\n",
              "    <tr>\n",
              "      <th>2021-11-30</th>\n",
              "      <td>1.044287</td>\n",
              "    </tr>\n",
              "  </tbody>\n",
              "</table>\n",
              "<p>61 rows × 1 columns</p>\n",
              "</div>"
            ],
            "text/plain": [
              "            Adj Close\n",
              "Date                 \n",
              "2016-11-30        NaN\n",
              "2016-12-30   0.971542\n",
              "2017-01-31   1.132725\n",
              "2017-02-28   1.040055\n",
              "2017-03-31   1.048030\n",
              "...               ...\n",
              "2021-07-30   1.024704\n",
              "2021-08-31   1.064777\n",
              "2021-09-30   0.894591\n",
              "2021-10-29   0.953387\n",
              "2021-11-30   1.044287\n",
              "\n",
              "[61 rows x 1 columns]"
            ]
          },
          "metadata": {},
          "execution_count": 25
        }
      ]
    },
    {
      "cell_type": "code",
      "metadata": {
        "id": "RMeyX7YIuNpt"
      },
      "source": [
        "FB_return=FB_return.dropna()"
      ],
      "execution_count": null,
      "outputs": []
    },
    {
      "cell_type": "code",
      "metadata": {
        "colab": {
          "base_uri": "https://localhost:8080/",
          "height": 409
        },
        "id": "niMhqXJguays",
        "outputId": "bb40725a-5793-4c8d-df60-6b21e4883c18"
      },
      "source": [
        "autocorrelation_plot(FB_return)"
      ],
      "execution_count": null,
      "outputs": [
        {
          "output_type": "execute_result",
          "data": {
            "text/plain": [
              "<matplotlib.axes._subplots.AxesSubplot at 0x7f76ae4defd0>"
            ]
          },
          "metadata": {},
          "execution_count": 27
        },
        {
          "output_type": "display_data",
          "data": {
            "image/png": "[encoded data removed]",
            "text/plain": [
              "<Figure size 1080x432 with 1 Axes>"
            ]
          },
          "metadata": {
            "needs_background": "light"
          }
        }
      ]
    },
    {
      "cell_type": "code",
      "metadata": {
        "id": "ssDXUUVKuNwp"
      },
      "source": [
        "# !!!!!!\n",
        "#rng=pd.date_range('2016-11-20','2021-11-20', freq='B')\n",
        "#all_stocks_test=pd.DataFrame(all_stocks, index=rng)#all_stocks_list\n",
        "#all_stocks_test\n",
        "\n",
        "#fig, ax=plt.subplots()\n",
        "#ax=plt.plot(all_stocks_test['FB']);\n",
        "#fig.autofmt_xdate()"
      ],
      "execution_count": null,
      "outputs": []
    },
    {
      "cell_type": "code",
      "metadata": {
        "colab": {
          "base_uri": "https://localhost:8080/",
          "height": 442
        },
        "id": "Av-4ZdIm1dzB",
        "outputId": "e368ac44-e559-44cf-a25f-a650c09dd22d"
      },
      "source": [
        "AMZN_return = adjusted_close_AMZN/adjusted_close_AMZN.shift()\n",
        "AMZN_return"
      ],
      "execution_count": null,
      "outputs": [
        {
          "output_type": "execute_result",
          "data": {
            "text/html": [
              "<div>\n",
              "<style scoped>\n",
              "    .dataframe tbody tr th:only-of-type {\n",
              "        vertical-align: middle;\n",
              "    }\n",
              "\n",
              "    .dataframe tbody tr th {\n",
              "        vertical-align: top;\n",
              "    }\n",
              "\n",
              "    .dataframe thead th {\n",
              "        text-align: right;\n",
              "    }\n",
              "</style>\n",
              "<table border=\"1\" class=\"dataframe\">\n",
              "  <thead>\n",
              "    <tr style=\"text-align: right;\">\n",
              "      <th></th>\n",
              "      <th>Adj Close</th>\n",
              "    </tr>\n",
              "    <tr>\n",
              "      <th>Date</th>\n",
              "      <th></th>\n",
              "    </tr>\n",
              "  </thead>\n",
              "  <tbody>\n",
              "    <tr>\n",
              "      <th>2016-11-30</th>\n",
              "      <td>NaN</td>\n",
              "    </tr>\n",
              "    <tr>\n",
              "      <th>2016-12-30</th>\n",
              "      <td>0.999067</td>\n",
              "    </tr>\n",
              "    <tr>\n",
              "      <th>2017-01-31</th>\n",
              "      <td>1.098164</td>\n",
              "    </tr>\n",
              "    <tr>\n",
              "      <th>2017-02-28</th>\n",
              "      <td>1.026182</td>\n",
              "    </tr>\n",
              "    <tr>\n",
              "      <th>2017-03-31</th>\n",
              "      <td>1.049110</td>\n",
              "    </tr>\n",
              "    <tr>\n",
              "      <th>...</th>\n",
              "      <td>...</td>\n",
              "    </tr>\n",
              "    <tr>\n",
              "      <th>2021-07-30</th>\n",
              "      <td>0.967278</td>\n",
              "    </tr>\n",
              "    <tr>\n",
              "      <th>2021-08-31</th>\n",
              "      <td>1.043034</td>\n",
              "    </tr>\n",
              "    <tr>\n",
              "      <th>2021-09-30</th>\n",
              "      <td>0.946482</td>\n",
              "    </tr>\n",
              "    <tr>\n",
              "      <th>2021-10-29</th>\n",
              "      <td>1.026602</td>\n",
              "    </tr>\n",
              "    <tr>\n",
              "      <th>2021-11-30</th>\n",
              "      <td>1.063127</td>\n",
              "    </tr>\n",
              "  </tbody>\n",
              "</table>\n",
              "<p>61 rows × 1 columns</p>\n",
              "</div>"
            ],
            "text/plain": [
              "            Adj Close\n",
              "Date                 \n",
              "2016-11-30        NaN\n",
              "2016-12-30   0.999067\n",
              "2017-01-31   1.098164\n",
              "2017-02-28   1.026182\n",
              "2017-03-31   1.049110\n",
              "...               ...\n",
              "2021-07-30   0.967278\n",
              "2021-08-31   1.043034\n",
              "2021-09-30   0.946482\n",
              "2021-10-29   1.026602\n",
              "2021-11-30   1.063127\n",
              "\n",
              "[61 rows x 1 columns]"
            ]
          },
          "metadata": {},
          "execution_count": 29
        }
      ]
    },
    {
      "cell_type": "code",
      "metadata": {
        "id": "ksvM_YVA1ouC"
      },
      "source": [
        "AMZN_return=AMZN_return.dropna()"
      ],
      "execution_count": null,
      "outputs": []
    },
    {
      "cell_type": "code",
      "metadata": {
        "colab": {
          "base_uri": "https://localhost:8080/",
          "height": 409
        },
        "id": "--AApyzX10fv",
        "outputId": "1f9c09fa-c481-4c8f-c72d-8669ce129878"
      },
      "source": [
        "autocorrelation_plot(AMZN_return)"
      ],
      "execution_count": null,
      "outputs": [
        {
          "output_type": "execute_result",
          "data": {
            "text/plain": [
              "<matplotlib.axes._subplots.AxesSubplot at 0x7f76ae5390d0>"
            ]
          },
          "metadata": {},
          "execution_count": 31
        },
        {
          "output_type": "display_data",
          "data": {
            "image/png": "[encoded data removed]",
            "text/plain": [
              "<Figure size 1080x432 with 1 Axes>"
            ]
          },
          "metadata": {
            "needs_background": "light"
          }
        }
      ]
    },
    {
      "cell_type": "markdown",
      "metadata": {
        "id": "k07FW4vR14fM"
      },
      "source": [
        "**MMM stocks**"
      ]
    },
    {
      "cell_type": "code",
      "metadata": {
        "colab": {
          "base_uri": "https://localhost:8080/",
          "height": 442
        },
        "id": "K4A8uLlM2Nso",
        "outputId": "51182ee1-aaba-4357-9c97-e414a03a7844"
      },
      "source": [
        "MMM_return = adjusted_close_MMM/adjusted_close_MMM.shift()\n",
        "MMM_return"
      ],
      "execution_count": null,
      "outputs": [
        {
          "output_type": "execute_result",
          "data": {
            "text/html": [
              "<div>\n",
              "<style scoped>\n",
              "    .dataframe tbody tr th:only-of-type {\n",
              "        vertical-align: middle;\n",
              "    }\n",
              "\n",
              "    .dataframe tbody tr th {\n",
              "        vertical-align: top;\n",
              "    }\n",
              "\n",
              "    .dataframe thead th {\n",
              "        text-align: right;\n",
              "    }\n",
              "</style>\n",
              "<table border=\"1\" class=\"dataframe\">\n",
              "  <thead>\n",
              "    <tr style=\"text-align: right;\">\n",
              "      <th></th>\n",
              "      <th>Adj Close</th>\n",
              "    </tr>\n",
              "    <tr>\n",
              "      <th>Date</th>\n",
              "      <th></th>\n",
              "    </tr>\n",
              "  </thead>\n",
              "  <tbody>\n",
              "    <tr>\n",
              "      <th>2016-11-30</th>\n",
              "      <td>NaN</td>\n",
              "    </tr>\n",
              "    <tr>\n",
              "      <th>2016-12-30</th>\n",
              "      <td>1.039770</td>\n",
              "    </tr>\n",
              "    <tr>\n",
              "      <th>2017-01-31</th>\n",
              "      <td>0.979000</td>\n",
              "    </tr>\n",
              "    <tr>\n",
              "      <th>2017-02-28</th>\n",
              "      <td>1.072895</td>\n",
              "    </tr>\n",
              "    <tr>\n",
              "      <th>2017-03-31</th>\n",
              "      <td>1.026724</td>\n",
              "    </tr>\n",
              "    <tr>\n",
              "      <th>...</th>\n",
              "      <td>...</td>\n",
              "    </tr>\n",
              "    <tr>\n",
              "      <th>2021-07-30</th>\n",
              "      <td>0.996526</td>\n",
              "    </tr>\n",
              "    <tr>\n",
              "      <th>2021-08-31</th>\n",
              "      <td>0.991344</td>\n",
              "    </tr>\n",
              "    <tr>\n",
              "      <th>2021-09-30</th>\n",
              "      <td>0.900791</td>\n",
              "    </tr>\n",
              "    <tr>\n",
              "      <th>2021-10-29</th>\n",
              "      <td>1.018584</td>\n",
              "    </tr>\n",
              "    <tr>\n",
              "      <th>2021-11-30</th>\n",
              "      <td>0.996685</td>\n",
              "    </tr>\n",
              "  </tbody>\n",
              "</table>\n",
              "<p>61 rows × 1 columns</p>\n",
              "</div>"
            ],
            "text/plain": [
              "            Adj Close\n",
              "Date                 \n",
              "2016-11-30        NaN\n",
              "2016-12-30   1.039770\n",
              "2017-01-31   0.979000\n",
              "2017-02-28   1.072895\n",
              "2017-03-31   1.026724\n",
              "...               ...\n",
              "2021-07-30   0.996526\n",
              "2021-08-31   0.991344\n",
              "2021-09-30   0.900791\n",
              "2021-10-29   1.018584\n",
              "2021-11-30   0.996685\n",
              "\n",
              "[61 rows x 1 columns]"
            ]
          },
          "metadata": {},
          "execution_count": 32
        }
      ]
    },
    {
      "cell_type": "code",
      "metadata": {
        "id": "AXo2855k2aSU"
      },
      "source": [
        "MMM_return=MMM_return.dropna()"
      ],
      "execution_count": null,
      "outputs": []
    },
    {
      "cell_type": "code",
      "metadata": {
        "id": "vrJT1iZruNwp",
        "colab": {
          "base_uri": "https://localhost:8080/",
          "height": 409
        },
        "outputId": "b90b1f98-03f1-4384-9bb6-803f33c119ce"
      },
      "source": [
        "autocorrelation_plot(MMM_return)"
      ],
      "execution_count": null,
      "outputs": [
        {
          "output_type": "execute_result",
          "data": {
            "text/plain": [
              "<matplotlib.axes._subplots.AxesSubplot at 0x7f76ae388ad0>"
            ]
          },
          "metadata": {},
          "execution_count": 34
        },
        {
          "output_type": "display_data",
          "data": {
            "image/png": "[encoded data removed]",
            "text/plain": [
              "<Figure size 1080x432 with 1 Axes>"
            ]
          },
          "metadata": {
            "needs_background": "light"
          }
        }
      ]
    },
    {
      "cell_type": "markdown",
      "metadata": {
        "id": "XipReC372kpI"
      },
      "source": [
        "**IBM stoks**"
      ]
    },
    {
      "cell_type": "code",
      "metadata": {
        "id": "3J8PMUckuNwq",
        "colab": {
          "base_uri": "https://localhost:8080/",
          "height": 442
        },
        "outputId": "0e21f42e-e01c-47ba-fb7f-03e23d4a702a"
      },
      "source": [
        "IBM_return = adjusted_close_IBM/adjusted_close_IBM.shift()\n",
        "IBM_return"
      ],
      "execution_count": null,
      "outputs": [
        {
          "output_type": "execute_result",
          "data": {
            "text/html": [
              "<div>\n",
              "<style scoped>\n",
              "    .dataframe tbody tr th:only-of-type {\n",
              "        vertical-align: middle;\n",
              "    }\n",
              "\n",
              "    .dataframe tbody tr th {\n",
              "        vertical-align: top;\n",
              "    }\n",
              "\n",
              "    .dataframe thead th {\n",
              "        text-align: right;\n",
              "    }\n",
              "</style>\n",
              "<table border=\"1\" class=\"dataframe\">\n",
              "  <thead>\n",
              "    <tr style=\"text-align: right;\">\n",
              "      <th></th>\n",
              "      <th>Adj Close</th>\n",
              "    </tr>\n",
              "    <tr>\n",
              "      <th>Date</th>\n",
              "      <th></th>\n",
              "    </tr>\n",
              "  </thead>\n",
              "  <tbody>\n",
              "    <tr>\n",
              "      <th>2016-11-30</th>\n",
              "      <td>NaN</td>\n",
              "    </tr>\n",
              "    <tr>\n",
              "      <th>2016-12-30</th>\n",
              "      <td>1.023240</td>\n",
              "    </tr>\n",
              "    <tr>\n",
              "      <th>2017-01-31</th>\n",
              "      <td>1.051389</td>\n",
              "    </tr>\n",
              "    <tr>\n",
              "      <th>2017-02-28</th>\n",
              "      <td>1.038516</td>\n",
              "    </tr>\n",
              "    <tr>\n",
              "      <th>2017-03-31</th>\n",
              "      <td>0.968413</td>\n",
              "    </tr>\n",
              "    <tr>\n",
              "      <th>...</th>\n",
              "      <td>...</td>\n",
              "    </tr>\n",
              "    <tr>\n",
              "      <th>2021-07-30</th>\n",
              "      <td>0.961594</td>\n",
              "    </tr>\n",
              "    <tr>\n",
              "      <th>2021-08-31</th>\n",
              "      <td>1.007064</td>\n",
              "    </tr>\n",
              "    <tr>\n",
              "      <th>2021-09-30</th>\n",
              "      <td>0.989953</td>\n",
              "    </tr>\n",
              "    <tr>\n",
              "      <th>2021-10-29</th>\n",
              "      <td>0.900453</td>\n",
              "    </tr>\n",
              "    <tr>\n",
              "      <th>2021-11-30</th>\n",
              "      <td>1.009248</td>\n",
              "    </tr>\n",
              "  </tbody>\n",
              "</table>\n",
              "<p>61 rows × 1 columns</p>\n",
              "</div>"
            ],
            "text/plain": [
              "            Adj Close\n",
              "Date                 \n",
              "2016-11-30        NaN\n",
              "2016-12-30   1.023240\n",
              "2017-01-31   1.051389\n",
              "2017-02-28   1.038516\n",
              "2017-03-31   0.968413\n",
              "...               ...\n",
              "2021-07-30   0.961594\n",
              "2021-08-31   1.007064\n",
              "2021-09-30   0.989953\n",
              "2021-10-29   0.900453\n",
              "2021-11-30   1.009248\n",
              "\n",
              "[61 rows x 1 columns]"
            ]
          },
          "metadata": {},
          "execution_count": 35
        }
      ]
    },
    {
      "cell_type": "code",
      "metadata": {
        "id": "tRvo6Rzi7mMJ"
      },
      "source": [
        "IBM_return=IBM_return.dropna()"
      ],
      "execution_count": null,
      "outputs": []
    },
    {
      "cell_type": "code",
      "metadata": {
        "colab": {
          "base_uri": "https://localhost:8080/",
          "height": 409
        },
        "id": "Wy7PVntB7ryz",
        "outputId": "25e518af-9199-4a1a-989d-9598eea10717"
      },
      "source": [
        "autocorrelation_plot(IBM_return)"
      ],
      "execution_count": null,
      "outputs": [
        {
          "output_type": "execute_result",
          "data": {
            "text/plain": [
              "<matplotlib.axes._subplots.AxesSubplot at 0x7f76ae2fc610>"
            ]
          },
          "metadata": {},
          "execution_count": 37
        },
        {
          "output_type": "display_data",
          "data": {
            "image/png": "[encoded data removed]",
            "text/plain": [
              "<Figure size 1080x432 with 1 Axes>"
            ]
          },
          "metadata": {
            "needs_background": "light"
          }
        }
      ]
    },
    {
      "cell_type": "markdown",
      "metadata": {
        "id": "nhdQS9BJ8Qll"
      },
      "source": [
        "### Response 6: Combine all 4 time series (returns) into a single DataFrame"
      ]
    },
    {
      "cell_type": "markdown",
      "metadata": {
        "id": "OCIeARrlOTfk"
      },
      "source": [
        "**Expanation:**\n",
        "As we can see in the plots above, there is no significant trend seen in the month end returns, the values are randomly distributed, and therefore, we can concluded that the stock price returns are not affected by the time."
      ]
    },
    {
      "cell_type": "code",
      "metadata": {
        "id": "9t3PrncL8i5e"
      },
      "source": [
        "Combined_series = pd.concat([FB_return, AMZN_return, MMM_return, IBM_return], join='outer', axis=1)"
      ],
      "execution_count": null,
      "outputs": []
    },
    {
      "cell_type": "code",
      "metadata": {
        "colab": {
          "base_uri": "https://localhost:8080/",
          "height": 1000
        },
        "id": "YEXSZqgV9f2r",
        "outputId": "e9d3847e-e0c0-4a4a-da91-5100c2ed01e1"
      },
      "source": [
        "Combined_series"
      ],
      "execution_count": null,
      "outputs": [
        {
          "output_type": "execute_result",
          "data": {
            "text/html": [
              "<div>\n",
              "<style scoped>\n",
              "    .dataframe tbody tr th:only-of-type {\n",
              "        vertical-align: middle;\n",
              "    }\n",
              "\n",
              "    .dataframe tbody tr th {\n",
              "        vertical-align: top;\n",
              "    }\n",
              "\n",
              "    .dataframe thead th {\n",
              "        text-align: right;\n",
              "    }\n",
              "</style>\n",
              "<table border=\"1\" class=\"dataframe\">\n",
              "  <thead>\n",
              "    <tr style=\"text-align: right;\">\n",
              "      <th></th>\n",
              "      <th>Adj Close</th>\n",
              "      <th>Adj Close</th>\n",
              "      <th>Adj Close</th>\n",
              "      <th>Adj Close</th>\n",
              "    </tr>\n",
              "    <tr>\n",
              "      <th>Date</th>\n",
              "      <th></th>\n",
              "      <th></th>\n",
              "      <th></th>\n",
              "      <th></th>\n",
              "    </tr>\n",
              "  </thead>\n",
              "  <tbody>\n",
              "    <tr>\n",
              "      <th>2016-12-30</th>\n",
              "      <td>0.971542</td>\n",
              "      <td>0.999067</td>\n",
              "      <td>1.039770</td>\n",
              "      <td>1.023240</td>\n",
              "    </tr>\n",
              "    <tr>\n",
              "      <th>2017-01-31</th>\n",
              "      <td>1.132725</td>\n",
              "      <td>1.098164</td>\n",
              "      <td>0.979000</td>\n",
              "      <td>1.051389</td>\n",
              "    </tr>\n",
              "    <tr>\n",
              "      <th>2017-02-28</th>\n",
              "      <td>1.040055</td>\n",
              "      <td>1.026182</td>\n",
              "      <td>1.072895</td>\n",
              "      <td>1.038516</td>\n",
              "    </tr>\n",
              "    <tr>\n",
              "      <th>2017-03-31</th>\n",
              "      <td>1.048030</td>\n",
              "      <td>1.049110</td>\n",
              "      <td>1.026724</td>\n",
              "      <td>0.968413</td>\n",
              "    </tr>\n",
              "    <tr>\n",
              "      <th>2017-04-28</th>\n",
              "      <td>1.057726</td>\n",
              "      <td>1.043371</td>\n",
              "      <td>1.023519</td>\n",
              "      <td>0.920466</td>\n",
              "    </tr>\n",
              "    <tr>\n",
              "      <th>2017-05-31</th>\n",
              "      <td>1.008053</td>\n",
              "      <td>1.075276</td>\n",
              "      <td>1.050356</td>\n",
              "      <td>0.961514</td>\n",
              "    </tr>\n",
              "    <tr>\n",
              "      <th>2017-06-30</th>\n",
              "      <td>0.996831</td>\n",
              "      <td>0.973236</td>\n",
              "      <td>1.018193</td>\n",
              "      <td>1.007862</td>\n",
              "    </tr>\n",
              "    <tr>\n",
              "      <th>2017-07-31</th>\n",
              "      <td>1.121009</td>\n",
              "      <td>1.020434</td>\n",
              "      <td>0.966281</td>\n",
              "      <td>0.940454</td>\n",
              "    </tr>\n",
              "    <tr>\n",
              "      <th>2017-08-31</th>\n",
              "      <td>1.016071</td>\n",
              "      <td>0.992731</td>\n",
              "      <td>1.021500</td>\n",
              "      <td>0.999110</td>\n",
              "    </tr>\n",
              "    <tr>\n",
              "      <th>2017-09-29</th>\n",
              "      <td>0.993604</td>\n",
              "      <td>0.980369</td>\n",
              "      <td>1.027310</td>\n",
              "      <td>1.014333</td>\n",
              "    </tr>\n",
              "    <tr>\n",
              "      <th>2017-10-31</th>\n",
              "      <td>1.053784</td>\n",
              "      <td>1.149717</td>\n",
              "      <td>1.096665</td>\n",
              "      <td>1.061897</td>\n",
              "    </tr>\n",
              "    <tr>\n",
              "      <th>2017-11-30</th>\n",
              "      <td>0.984005</td>\n",
              "      <td>1.064662</td>\n",
              "      <td>1.061586</td>\n",
              "      <td>1.009405</td>\n",
              "    </tr>\n",
              "    <tr>\n",
              "      <th>2017-12-29</th>\n",
              "      <td>0.995936</td>\n",
              "      <td>0.993813</td>\n",
              "      <td>0.968043</td>\n",
              "      <td>0.996428</td>\n",
              "    </tr>\n",
              "    <tr>\n",
              "      <th>2018-01-31</th>\n",
              "      <td>1.059107</td>\n",
              "      <td>1.240639</td>\n",
              "      <td>1.064282</td>\n",
              "      <td>1.067006</td>\n",
              "    </tr>\n",
              "    <tr>\n",
              "      <th>2018-02-28</th>\n",
              "      <td>0.954144</td>\n",
              "      <td>1.042429</td>\n",
              "      <td>0.945704</td>\n",
              "      <td>0.961296</td>\n",
              "    </tr>\n",
              "    <tr>\n",
              "      <th>2018-03-30</th>\n",
              "      <td>0.896086</td>\n",
              "      <td>0.956951</td>\n",
              "      <td>0.932105</td>\n",
              "      <td>0.984599</td>\n",
              "    </tr>\n",
              "    <tr>\n",
              "      <th>2018-04-30</th>\n",
              "      <td>1.076413</td>\n",
              "      <td>1.082075</td>\n",
              "      <td>0.885523</td>\n",
              "      <td>0.944796</td>\n",
              "    </tr>\n",
              "    <tr>\n",
              "      <th>2018-05-31</th>\n",
              "      <td>1.115000</td>\n",
              "      <td>1.040539</td>\n",
              "      <td>1.021549</td>\n",
              "      <td>0.985642</td>\n",
              "    </tr>\n",
              "    <tr>\n",
              "      <th>2018-06-29</th>\n",
              "      <td>1.013244</td>\n",
              "      <td>1.043065</td>\n",
              "      <td>0.997414</td>\n",
              "      <td>0.988607</td>\n",
              "    </tr>\n",
              "    <tr>\n",
              "      <th>2018-07-31</th>\n",
              "      <td>0.888123</td>\n",
              "      <td>1.045676</td>\n",
              "      <td>1.079301</td>\n",
              "      <td>1.037437</td>\n",
              "    </tr>\n",
              "    <tr>\n",
              "      <th>2018-08-31</th>\n",
              "      <td>1.018252</td>\n",
              "      <td>1.132365</td>\n",
              "      <td>1.000065</td>\n",
              "      <td>1.021614</td>\n",
              "    </tr>\n",
              "    <tr>\n",
              "      <th>2018-09-28</th>\n",
              "      <td>0.935868</td>\n",
              "      <td>0.995176</td>\n",
              "      <td>0.999004</td>\n",
              "      <td>1.032291</td>\n",
              "    </tr>\n",
              "    <tr>\n",
              "      <th>2018-10-31</th>\n",
              "      <td>0.922960</td>\n",
              "      <td>0.797808</td>\n",
              "      <td>0.902947</td>\n",
              "      <td>0.763376</td>\n",
              "    </tr>\n",
              "    <tr>\n",
              "      <th>2018-11-30</th>\n",
              "      <td>0.926346</td>\n",
              "      <td>1.057672</td>\n",
              "      <td>1.100283</td>\n",
              "      <td>1.090295</td>\n",
              "    </tr>\n",
              "    <tr>\n",
              "      <th>2018-12-31</th>\n",
              "      <td>0.932295</td>\n",
              "      <td>0.888650</td>\n",
              "      <td>0.916410</td>\n",
              "      <td>0.914702</td>\n",
              "    </tr>\n",
              "    <tr>\n",
              "      <th>2019-01-31</th>\n",
              "      <td>1.271569</td>\n",
              "      <td>1.144317</td>\n",
              "      <td>1.051223</td>\n",
              "      <td>1.182546</td>\n",
              "    </tr>\n",
              "    <tr>\n",
              "      <th>2019-02-28</th>\n",
              "      <td>0.968564</td>\n",
              "      <td>0.954094</td>\n",
              "      <td>1.042555</td>\n",
              "      <td>1.039573</td>\n",
              "    </tr>\n",
              "    <tr>\n",
              "      <th>2019-03-29</th>\n",
              "      <td>1.032456</td>\n",
              "      <td>1.085936</td>\n",
              "      <td>1.001881</td>\n",
              "      <td>1.021502</td>\n",
              "    </tr>\n",
              "    <tr>\n",
              "      <th>2019-04-30</th>\n",
              "      <td>1.160238</td>\n",
              "      <td>1.081859</td>\n",
              "      <td>0.912071</td>\n",
              "      <td>0.994117</td>\n",
              "    </tr>\n",
              "    <tr>\n",
              "      <th>2019-05-31</th>\n",
              "      <td>0.917632</td>\n",
              "      <td>0.921387</td>\n",
              "      <td>0.850176</td>\n",
              "      <td>0.916080</td>\n",
              "    </tr>\n",
              "    <tr>\n",
              "      <th>2019-06-28</th>\n",
              "      <td>1.087508</td>\n",
              "      <td>1.066792</td>\n",
              "      <td>1.085071</td>\n",
              "      <td>1.085912</td>\n",
              "    </tr>\n",
              "    <tr>\n",
              "      <th>2019-07-31</th>\n",
              "      <td>1.006373</td>\n",
              "      <td>0.985821</td>\n",
              "      <td>1.007961</td>\n",
              "      <td>1.074982</td>\n",
              "    </tr>\n",
              "    <tr>\n",
              "      <th>2019-08-30</th>\n",
              "      <td>0.955929</td>\n",
              "      <td>0.951526</td>\n",
              "      <td>0.934065</td>\n",
              "      <td>0.925033</td>\n",
              "    </tr>\n",
              "    <tr>\n",
              "      <th>2019-09-30</th>\n",
              "      <td>0.959121</td>\n",
              "      <td>0.977267</td>\n",
              "      <td>1.016572</td>\n",
              "      <td>1.072973</td>\n",
              "    </tr>\n",
              "    <tr>\n",
              "      <th>2019-10-31</th>\n",
              "      <td>1.076202</td>\n",
              "      <td>1.023475</td>\n",
              "      <td>1.003589</td>\n",
              "      <td>0.919612</td>\n",
              "    </tr>\n",
              "    <tr>\n",
              "      <th>2019-11-29</th>\n",
              "      <td>1.052126</td>\n",
              "      <td>1.013587</td>\n",
              "      <td>1.037880</td>\n",
              "      <td>1.017259</td>\n",
              "    </tr>\n",
              "    <tr>\n",
              "      <th>2019-12-31</th>\n",
              "      <td>1.017903</td>\n",
              "      <td>1.026122</td>\n",
              "      <td>1.039170</td>\n",
              "      <td>0.996950</td>\n",
              "    </tr>\n",
              "    <tr>\n",
              "      <th>2020-01-31</th>\n",
              "      <td>0.983727</td>\n",
              "      <td>1.087064</td>\n",
              "      <td>0.899331</td>\n",
              "      <td>1.072292</td>\n",
              "    </tr>\n",
              "    <tr>\n",
              "      <th>2020-02-28</th>\n",
              "      <td>0.953246</td>\n",
              "      <td>0.937786</td>\n",
              "      <td>0.949146</td>\n",
              "      <td>0.914973</td>\n",
              "    </tr>\n",
              "    <tr>\n",
              "      <th>2020-03-31</th>\n",
              "      <td>0.866629</td>\n",
              "      <td>1.035021</td>\n",
              "      <td>0.914701</td>\n",
              "      <td>0.852324</td>\n",
              "    </tr>\n",
              "    <tr>\n",
              "      <th>2020-04-30</th>\n",
              "      <td>1.227278</td>\n",
              "      <td>1.268900</td>\n",
              "      <td>1.112886</td>\n",
              "      <td>1.131885</td>\n",
              "    </tr>\n",
              "    <tr>\n",
              "      <th>2020-05-29</th>\n",
              "      <td>1.099555</td>\n",
              "      <td>0.987215</td>\n",
              "      <td>1.039966</td>\n",
              "      <td>1.008084</td>\n",
              "    </tr>\n",
              "    <tr>\n",
              "      <th>2020-06-30</th>\n",
              "      <td>1.008797</td>\n",
              "      <td>1.129567</td>\n",
              "      <td>0.997123</td>\n",
              "      <td>0.966934</td>\n",
              "    </tr>\n",
              "    <tr>\n",
              "      <th>2020-07-31</th>\n",
              "      <td>1.117144</td>\n",
              "      <td>1.147114</td>\n",
              "      <td>0.964613</td>\n",
              "      <td>1.017968</td>\n",
              "    </tr>\n",
              "    <tr>\n",
              "      <th>2020-08-31</th>\n",
              "      <td>1.155832</td>\n",
              "      <td>1.090461</td>\n",
              "      <td>1.093267</td>\n",
              "      <td>1.016142</td>\n",
              "    </tr>\n",
              "    <tr>\n",
              "      <th>2020-09-30</th>\n",
              "      <td>0.893247</td>\n",
              "      <td>0.912421</td>\n",
              "      <td>0.982579</td>\n",
              "      <td>0.986700</td>\n",
              "    </tr>\n",
              "    <tr>\n",
              "      <th>2020-10-30</th>\n",
              "      <td>1.004620</td>\n",
              "      <td>0.964246</td>\n",
              "      <td>0.998627</td>\n",
              "      <td>0.917728</td>\n",
              "    </tr>\n",
              "    <tr>\n",
              "      <th>2020-11-30</th>\n",
              "      <td>1.052678</td>\n",
              "      <td>1.043440</td>\n",
              "      <td>1.089174</td>\n",
              "      <td>1.122256</td>\n",
              "    </tr>\n",
              "    <tr>\n",
              "      <th>2020-12-31</th>\n",
              "      <td>0.986244</td>\n",
              "      <td>1.028058</td>\n",
              "      <td>1.011926</td>\n",
              "      <td>1.019106</td>\n",
              "    </tr>\n",
              "    <tr>\n",
              "      <th>2021-01-29</th>\n",
              "      <td>0.945709</td>\n",
              "      <td>0.984424</td>\n",
              "      <td>1.004978</td>\n",
              "      <td>0.946219</td>\n",
              "    </tr>\n",
              "    <tr>\n",
              "      <th>2021-02-26</th>\n",
              "      <td>0.997252</td>\n",
              "      <td>0.964672</td>\n",
              "      <td>1.004797</td>\n",
              "      <td>1.011831</td>\n",
              "    </tr>\n",
              "    <tr>\n",
              "      <th>2021-03-31</th>\n",
              "      <td>1.143273</td>\n",
              "      <td>1.000372</td>\n",
              "      <td>1.100651</td>\n",
              "      <td>1.120491</td>\n",
              "    </tr>\n",
              "    <tr>\n",
              "      <th>2021-04-30</th>\n",
              "      <td>1.103725</td>\n",
              "      <td>1.120663</td>\n",
              "      <td>1.023147</td>\n",
              "      <td>1.064686</td>\n",
              "    </tr>\n",
              "    <tr>\n",
              "      <th>2021-05-31</th>\n",
              "      <td>1.011228</td>\n",
              "      <td>0.929530</td>\n",
              "      <td>1.037507</td>\n",
              "      <td>1.024429</td>\n",
              "    </tr>\n",
              "    <tr>\n",
              "      <th>2021-06-30</th>\n",
              "      <td>1.057737</td>\n",
              "      <td>1.067355</td>\n",
              "      <td>0.978280</td>\n",
              "      <td>1.019827</td>\n",
              "    </tr>\n",
              "    <tr>\n",
              "      <th>2021-07-30</th>\n",
              "      <td>1.024704</td>\n",
              "      <td>0.967278</td>\n",
              "      <td>0.996526</td>\n",
              "      <td>0.961594</td>\n",
              "    </tr>\n",
              "    <tr>\n",
              "      <th>2021-08-31</th>\n",
              "      <td>1.064777</td>\n",
              "      <td>1.043034</td>\n",
              "      <td>0.991344</td>\n",
              "      <td>1.007064</td>\n",
              "    </tr>\n",
              "    <tr>\n",
              "      <th>2021-09-30</th>\n",
              "      <td>0.894591</td>\n",
              "      <td>0.946482</td>\n",
              "      <td>0.900791</td>\n",
              "      <td>0.989953</td>\n",
              "    </tr>\n",
              "    <tr>\n",
              "      <th>2021-10-29</th>\n",
              "      <td>0.953387</td>\n",
              "      <td>1.026602</td>\n",
              "      <td>1.018584</td>\n",
              "      <td>0.900453</td>\n",
              "    </tr>\n",
              "    <tr>\n",
              "      <th>2021-11-30</th>\n",
              "      <td>1.044287</td>\n",
              "      <td>1.063127</td>\n",
              "      <td>0.996685</td>\n",
              "      <td>1.009248</td>\n",
              "    </tr>\n",
              "  </tbody>\n",
              "</table>\n",
              "</div>"
            ],
            "text/plain": [
              "            Adj Close  Adj Close  Adj Close  Adj Close\n",
              "Date                                                  \n",
              "2016-12-30   0.971542   0.999067   1.039770   1.023240\n",
              "2017-01-31   1.132725   1.098164   0.979000   1.051389\n",
              "2017-02-28   1.040055   1.026182   1.072895   1.038516\n",
              "2017-03-31   1.048030   1.049110   1.026724   0.968413\n",
              "2017-04-28   1.057726   1.043371   1.023519   0.920466\n",
              "2017-05-31   1.008053   1.075276   1.050356   0.961514\n",
              "2017-06-30   0.996831   0.973236   1.018193   1.007862\n",
              "2017-07-31   1.121009   1.020434   0.966281   0.940454\n",
              "2017-08-31   1.016071   0.992731   1.021500   0.999110\n",
              "2017-09-29   0.993604   0.980369   1.027310   1.014333\n",
              "2017-10-31   1.053784   1.149717   1.096665   1.061897\n",
              "2017-11-30   0.984005   1.064662   1.061586   1.009405\n",
              "2017-12-29   0.995936   0.993813   0.968043   0.996428\n",
              "2018-01-31   1.059107   1.240639   1.064282   1.067006\n",
              "2018-02-28   0.954144   1.042429   0.945704   0.961296\n",
              "2018-03-30   0.896086   0.956951   0.932105   0.984599\n",
              "2018-04-30   1.076413   1.082075   0.885523   0.944796\n",
              "2018-05-31   1.115000   1.040539   1.021549   0.985642\n",
              "2018-06-29   1.013244   1.043065   0.997414   0.988607\n",
              "2018-07-31   0.888123   1.045676   1.079301   1.037437\n",
              "2018-08-31   1.018252   1.132365   1.000065   1.021614\n",
              "2018-09-28   0.935868   0.995176   0.999004   1.032291\n",
              "2018-10-31   0.922960   0.797808   0.902947   0.763376\n",
              "2018-11-30   0.926346   1.057672   1.100283   1.090295\n",
              "2018-12-31   0.932295   0.888650   0.916410   0.914702\n",
              "2019-01-31   1.271569   1.144317   1.051223   1.182546\n",
              "2019-02-28   0.968564   0.954094   1.042555   1.039573\n",
              "2019-03-29   1.032456   1.085936   1.001881   1.021502\n",
              "2019-04-30   1.160238   1.081859   0.912071   0.994117\n",
              "2019-05-31   0.917632   0.921387   0.850176   0.916080\n",
              "2019-06-28   1.087508   1.066792   1.085071   1.085912\n",
              "2019-07-31   1.006373   0.985821   1.007961   1.074982\n",
              "2019-08-30   0.955929   0.951526   0.934065   0.925033\n",
              "2019-09-30   0.959121   0.977267   1.016572   1.072973\n",
              "2019-10-31   1.076202   1.023475   1.003589   0.919612\n",
              "2019-11-29   1.052126   1.013587   1.037880   1.017259\n",
              "2019-12-31   1.017903   1.026122   1.039170   0.996950\n",
              "2020-01-31   0.983727   1.087064   0.899331   1.072292\n",
              "2020-02-28   0.953246   0.937786   0.949146   0.914973\n",
              "2020-03-31   0.866629   1.035021   0.914701   0.852324\n",
              "2020-04-30   1.227278   1.268900   1.112886   1.131885\n",
              "2020-05-29   1.099555   0.987215   1.039966   1.008084\n",
              "2020-06-30   1.008797   1.129567   0.997123   0.966934\n",
              "2020-07-31   1.117144   1.147114   0.964613   1.017968\n",
              "2020-08-31   1.155832   1.090461   1.093267   1.016142\n",
              "2020-09-30   0.893247   0.912421   0.982579   0.986700\n",
              "2020-10-30   1.004620   0.964246   0.998627   0.917728\n",
              "2020-11-30   1.052678   1.043440   1.089174   1.122256\n",
              "2020-12-31   0.986244   1.028058   1.011926   1.019106\n",
              "2021-01-29   0.945709   0.984424   1.004978   0.946219\n",
              "2021-02-26   0.997252   0.964672   1.004797   1.011831\n",
              "2021-03-31   1.143273   1.000372   1.100651   1.120491\n",
              "2021-04-30   1.103725   1.120663   1.023147   1.064686\n",
              "2021-05-31   1.011228   0.929530   1.037507   1.024429\n",
              "2021-06-30   1.057737   1.067355   0.978280   1.019827\n",
              "2021-07-30   1.024704   0.967278   0.996526   0.961594\n",
              "2021-08-31   1.064777   1.043034   0.991344   1.007064\n",
              "2021-09-30   0.894591   0.946482   0.900791   0.989953\n",
              "2021-10-29   0.953387   1.026602   1.018584   0.900453\n",
              "2021-11-30   1.044287   1.063127   0.996685   1.009248"
            ]
          },
          "metadata": {},
          "execution_count": 39
        }
      ]
    },
    {
      "cell_type": "code",
      "metadata": {
        "id": "6S0mIM-o_bEy"
      },
      "source": [
        "Combined_series=Combined_series.dropna()"
      ],
      "execution_count": null,
      "outputs": []
    },
    {
      "cell_type": "code",
      "metadata": {
        "colab": {
          "base_uri": "https://localhost:8080/",
          "height": 697
        },
        "id": "FpkEQ0U79mYp",
        "outputId": "14914505-94db-4544-fb3a-13b26a308ae8"
      },
      "source": [
        "pd.plotting.scatter_matrix(Combined_series)"
      ],
      "execution_count": null,
      "outputs": [
        {
          "output_type": "execute_result",
          "data": {
            "text/plain": [
              "array([[<matplotlib.axes._subplots.AxesSubplot object at 0x7f76ae295a10>,\n",
              "        <matplotlib.axes._subplots.AxesSubplot object at 0x7f76ae243b90>,\n",
              "        <matplotlib.axes._subplots.AxesSubplot object at 0x7f76ae2041d0>,\n",
              "        <matplotlib.axes._subplots.AxesSubplot object at 0x7f76ae1b97d0>],\n",
              "       [<matplotlib.axes._subplots.AxesSubplot object at 0x7f76ae170dd0>,\n",
              "        <matplotlib.axes._subplots.AxesSubplot object at 0x7f76ae133410>,\n",
              "        <matplotlib.axes._subplots.AxesSubplot object at 0x7f76ae0e9a90>,\n",
              "        <matplotlib.axes._subplots.AxesSubplot object at 0x7f76ae120fd0>],\n",
              "       [<matplotlib.axes._subplots.AxesSubplot object at 0x7f76ae0ac050>,\n",
              "        <matplotlib.axes._subplots.AxesSubplot object at 0x7f76ae0e2750>,\n",
              "        <matplotlib.axes._subplots.AxesSubplot object at 0x7f76ae061510>,\n",
              "        <matplotlib.axes._subplots.AxesSubplot object at 0x7f76ae01b8d0>],\n",
              "       [<matplotlib.axes._subplots.AxesSubplot object at 0x7f76adfd3e10>,\n",
              "        <matplotlib.axes._subplots.AxesSubplot object at 0x7f76adf94310>,\n",
              "        <matplotlib.axes._subplots.AxesSubplot object at 0x7f76adf4b810>,\n",
              "        <matplotlib.axes._subplots.AxesSubplot object at 0x7f76adf00d10>]],\n",
              "      dtype=object)"
            ]
          },
          "metadata": {},
          "execution_count": 41
        },
        {
          "output_type": "display_data",
          "data": {
            "image/png": "[encoded data removed]",
            "text/plain": [
              "<Figure size 1080x432 with 16 Axes>"
            ]
          },
          "metadata": {
            "needs_background": "light"
          }
        }
      ]
    },
    {
      "cell_type": "markdown",
      "metadata": {
        "id": "nYy_as74PJ2q"
      },
      "source": [
        "**Conclutions**\n",
        "Autocorrelations are a great tool to observe whether there is any significant change or trend that can be explained by internal association. In the case of Month End data, we can see that there is some significant trend we can observe, and that the values are not randomly distributed. Although, when looking at the returns, there is no such significant trend (all the values are in between 95% confidence interval)"
      ]
    }
  ]
}